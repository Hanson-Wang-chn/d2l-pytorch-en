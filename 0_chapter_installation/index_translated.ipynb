{
 "cells": [
  {
   "cell_type": "markdown",
   "id": "b2c31cd7",
   "metadata": {
    "origin_pos": 0
   },
   "source": [
    "# 安装\n",
    ":label:`chap_installation`\n",
    "\n",
    "为了开始运行，\n",
    "我们需要一个运行Python的环境、\n",
    "Jupyter Notebook、相关库以及运行本书所需的代码。\n",
    "\n",
    "## 安装Miniconda\n",
    "\n",
    "最简单的选项是安装\n",
    "[Miniconda](https://conda.io/en/latest/miniconda.html)。\n",
    "请注意，需要Python 3.x版本。\n",
    "如果您的机器上已经安装了conda，则可以跳过以下步骤。\n",
    "\n",
    "访问Miniconda网站并根据您的Python 3.x版本和机器架构确定适合您系统的版本。\n",
    "假设您的Python版本为3.9\n",
    "（我们测试过的版本）。\n",
    "如果您使用的是macOS，\n",
    "则应下载文件名中包含\"MacOSX\"字符串的bash脚本，\n",
    "导航到下载位置，并执行如下安装\n",
    "（以Intel Macs为例）：\n",
    "\n",
    "```bash\n",
    "# 文件名可能会更改\n",
    "sh Miniconda3-py39_4.12.0-MacOSX-x86_64.sh -b\n",
    "```\n",
    "\n",
    "Linux用户\n",
    "应下载文件名中包含\"Linux\"字符串的文件，\n",
    "并在下载位置执行以下操作：\n",
    "\n",
    "```bash\n",
    "# 文件名可能会更改\n",
    "sh Miniconda3-py39_4.12.0-Linux-x86_64.sh -b\n",
    "```\n",
    "\n",
    "Windows用户应按照其[在线说明](https://conda.io/en/latest/miniconda.html)下载并安装Miniconda。\n",
    "在Windows上，您可以搜索`cmd`来打开命令提示符（命令行解释器）以运行命令。\n",
    "\n",
    "接下来，初始化shell以便我们可以直接运行`conda`。\n",
    "\n",
    "```bash\n",
    "~/miniconda3/bin/conda init\n",
    "```\n",
    "\n",
    "然后关闭并重新打开当前shell。\n",
    "您应该能够创建一个新的环境，如下所示：\n",
    "\n",
    "```bash\n",
    "conda create --name d2l python=3.9 -y\n",
    "```\n",
    "\n",
    "现在我们可以激活`d2l`环境：\n",
    "\n",
    "```bash\n",
    "conda activate d2l\n",
    "```\n",
    "\n",
    "## 安装深度学习框架和`d2l`包\n",
    "\n",
    "在安装任何深度学习框架之前，请首先检查您的机器上是否有适当的GPU\n",
    "（标准笔记本电脑上用于显示的GPU与我们的目的无关）。\n",
    "例如，\n",
    "如果您的计算机有NVIDIA GPU并且已安装[CUDA](https://developer.nvidia.com/cuda-downloads)，\n",
    "那么一切就绪。\n",
    "如果您的机器没有GPU，也无需担心。\n",
    "您的CPU足以让您完成前几章的学习。\n",
    "只需记住，在运行更大模型之前，您将需要访问GPU。"
   ]
  },
  {
   "cell_type": "markdown",
   "id": "f2302a86",
   "metadata": {
    "origin_pos": 2,
    "tab": [
     "pytorch"
    ]
   },
   "source": [
    "你可以按照以下方式安装PyTorch（指定版本在撰写时已测试）支持CPU或GPU：\n",
    "\n",
    "```bash\n",
    "pip install torch==2.0.0 torchvision==0.15.1\n",
    "```"
   ]
  },
  {
   "cell_type": "markdown",
   "id": "7f91263d",
   "metadata": {
    "origin_pos": 5
   },
   "source": [
    "我们的下一步是安装\n",
    "我们开发的 `d2l` 包\n",
    "以便封装\n",
    "本书中经常使用的函数和类：\n",
    "\n",
    "```bash\n",
    "pip install d2l==1.0.3\n",
    "```\n",
    "\n",
    "## 下载和运行代码\n",
    "\n",
    "接下来，您需要下载笔记本\n",
    "以便您可以运行书中的每个代码块。\n",
    "只需点击 [D2L.ai 网站](https://d2l.ai/) 上任何 HTML 页面顶部的 \"Notebooks\" 标签\n",
    "来下载代码并解压即可。\n",
    "或者，您可以通过命令行如下获取笔记本："
   ]
  },
  {
   "cell_type": "markdown",
   "id": "461f11df",
   "metadata": {
    "origin_pos": 7,
    "tab": [
     "pytorch"
    ]
   },
   "source": [
    "```bash\n",
    "mkdir d2l-en && cd d2l-en\n",
    "curl https://d2l.ai/d2l-en-1.0.3.zip -o d2l-en.zip\n",
    "unzip d2l-en.zip && rm d2l-en.zip\n",
    "cd pytorch\n",
    "```"
   ]
  },
  {
   "cell_type": "markdown",
   "id": "75f2fcaf",
   "metadata": {
    "origin_pos": 10
   },
   "source": [
    "如果你还没有安装`unzip`，请先运行`sudo apt-get install unzip`。\n",
    "现在我们可以通过运行以下命令来启动Jupyter Notebook服务器：\n",
    "\n",
    "```bash\n",
    "jupyter notebook\n",
    "```\n",
    "\n",
    "此时，你可以在你的网页浏览器中打开http://localhost:8888\n",
    "（它可能已经自动打开了）。\n",
    "然后我们可以运行书中的每一节的代码。\n",
    "每当你打开一个新的命令行窗口时，\n",
    "你需要执行`conda activate d2l`\n",
    "来激活运行环境，\n",
    "才能运行D2L笔记本或更新你的软件包\n",
    "（无论是深度学习框架还是`d2l`包）。\n",
    "要退出该环境，请运行`conda deactivate`。"
   ]
  },
  {
   "cell_type": "markdown",
   "id": "cedf31bd",
   "metadata": {
    "origin_pos": 12,
    "tab": [
     "pytorch"
    ]
   },
   "source": [
    "[讨论](https://discuss.d2l.ai/t/24)"
   ]
  }
 ],
 "metadata": {
  "language_info": {
   "name": "python"
  },
  "required_libs": []
 },
 "nbformat": 4,
 "nbformat_minor": 5
}