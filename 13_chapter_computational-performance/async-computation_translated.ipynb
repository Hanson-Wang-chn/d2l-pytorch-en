{
 "cells": [
  {
   "cell_type": "markdown",
   "id": "4bffbe72",
   "metadata": {
    "origin_pos": 0
   },
   "source": [
    "# 异步计算\n",
    ":label:`sec_async`\n",
    "\n",
    "今天的计算机是高度并行的系统，包含多个CPU核心（通常每个核心有多个线程）、每个GPU上的多个处理单元，以及每台设备上通常有多个GPU。简而言之，我们可以同时处理许多不同的事情，通常是在不同的设备上。不幸的是，Python并不是编写并行和异步代码的好方法，至少在没有一些额外帮助的情况下不是。毕竟，Python是单线程的，而且这种情况在未来不太可能改变。深度学习框架如MXNet和TensorFlow采用了*异步编程*模型来提高性能，\n",
    "而PyTorch则使用了Python自己的调度器，导致了不同的性能权衡。\n",
    "对于PyTorch，默认情况下，GPU操作是异步的。当你调用一个使用GPU的函数时，这些操作会被加入到特定设备的队列中，但不一定立即执行。这使我们能够并行执行更多的计算，包括在CPU或其他GPU上的操作。\n",
    "\n",
    "因此，了解异步编程的工作原理有助于我们通过主动减少计算需求和相互依赖性来开发更高效的程序。这使我们能够减少内存开销并提高处理器利用率。"
   ]
  },
  {
   "cell_type": "code",
   "execution_count": 1,
   "id": "e2543b3d",
   "metadata": {
    "execution": {
     "iopub.execute_input": "2023-08-18T19:47:57.710213Z",
     "iopub.status.busy": "2023-08-18T19:47:57.709371Z",
     "iopub.status.idle": "2023-08-18T19:48:00.925162Z",
     "shell.execute_reply": "2023-08-18T19:48:00.923855Z"
    },
    "origin_pos": 2,
    "tab": [
     "pytorch"
    ]
   },
   "outputs": [],
   "source": [
    "import os\n",
    "import subprocess\n",
    "import numpy\n",
    "import torch\n",
    "from torch import nn\n",
    "from d2l import torch as d2l"
   ]
  },
  {
   "cell_type": "markdown",
   "id": "acc948cf",
   "metadata": {
    "origin_pos": 3
   },
   "source": [
    "## 异步通过后端"
   ]
  },
  {
   "cell_type": "markdown",
   "id": "c7cd88ca",
   "metadata": {
    "origin_pos": 5,
    "tab": [
     "pytorch"
    ]
   },
   "source": [
    "为了热身，考虑以下这个简单的示例问题：我们想要生成一个随机矩阵并对其进行乘法运算。让我们分别在NumPy和PyTorch张量中执行此操作，以查看差异。\n",
    "请注意，PyTorch `tensor`是在GPU上定义的。"
   ]
  },
  {
   "cell_type": "code",
   "execution_count": 2,
   "id": "d76704a2",
   "metadata": {
    "execution": {
     "iopub.execute_input": "2023-08-18T19:48:00.929925Z",
     "iopub.status.busy": "2023-08-18T19:48:00.928862Z",
     "iopub.status.idle": "2023-08-18T19:48:02.651564Z",
     "shell.execute_reply": "2023-08-18T19:48:02.650169Z"
    },
    "origin_pos": 7,
    "tab": [
     "pytorch"
    ]
   },
   "outputs": [
    {
     "name": "stdout",
     "output_type": "stream",
     "text": [
      "numpy: 1.4693 sec\n",
      "torch: 0.0022 sec\n"
     ]
    }
   ],
   "source": [
    "# Warmup for GPU computation\n",
    "device = d2l.try_gpu()\n",
    "a = torch.randn(size=(1000, 1000), device=device)\n",
    "b = torch.mm(a, a)\n",
    "\n",
    "with d2l.Benchmark('numpy'):\n",
    "    for _ in range(10):\n",
    "        a = numpy.random.normal(size=(1000, 1000))\n",
    "        b = numpy.dot(a, a)\n",
    "\n",
    "with d2l.Benchmark('torch'):\n",
    "    for _ in range(10):\n",
    "        a = torch.randn(size=(1000, 1000), device=device)\n",
    "        b = torch.mm(a, a)"
   ]
  },
  {
   "cell_type": "markdown",
   "id": "3a488546",
   "metadata": {
    "origin_pos": 9,
    "tab": [
     "pytorch"
    ]
   },
   "source": [
    "通过PyTorch得到的基准输出快了几个数量级。\n",
    "NumPy点积是在CPU处理器上执行的，而\n",
    "PyTorch矩阵乘法是在GPU上执行的，因此后者\n",
    "预计会快得多。但巨大的时间差异表明还有其他原因。\n",
    "默认情况下，PyTorch中的GPU操作是异步的。\n",
    "强制PyTorch在返回之前完成所有计算显示了\n",
    "之前发生的情况：后端正在执行计算\n",
    "而前端将控制权返回给Python。"
   ]
  },
  {
   "cell_type": "code",
   "execution_count": 3,
   "id": "8ee490b4",
   "metadata": {
    "execution": {
     "iopub.execute_input": "2023-08-18T19:48:02.657514Z",
     "iopub.status.busy": "2023-08-18T19:48:02.656839Z",
     "iopub.status.idle": "2023-08-18T19:48:02.671673Z",
     "shell.execute_reply": "2023-08-18T19:48:02.670413Z"
    },
    "origin_pos": 11,
    "tab": [
     "pytorch"
    ]
   },
   "outputs": [
    {
     "name": "stdout",
     "output_type": "stream",
     "text": [
      "Done: 0.0058 sec\n"
     ]
    }
   ],
   "source": [
    "with d2l.Benchmark():\n",
    "    for _ in range(10):\n",
    "        a = torch.randn(size=(1000, 1000), device=device)\n",
    "        b = torch.mm(a, a)\n",
    "    torch.cuda.synchronize(device)"
   ]
  },
  {
   "cell_type": "markdown",
   "id": "63514ebe",
   "metadata": {
    "origin_pos": 13,
    "tab": [
     "pytorch"
    ]
   },
   "source": [
    "总体而言，PyTorch 有一个前端用于与用户直接交互，例如通过 Python，以及一个由系统用来执行计算的后端。\n",
    "如 :numref:`fig_frontends` 所示，用户可以用各种前端语言编写 PyTorch 程序，如 Python 和 C++。无论使用哪种前端编程语言，PyTorch 程序的执行主要发生在 C++ 实现的后端。前端语言发出的操作会被传递到后端进行执行。\n",
    "后端管理自己的线程，这些线程持续收集并执行排队的任务。\n",
    "请注意，为了使这一切正常工作，后端必须能够跟踪计算图中各个步骤之间的依赖关系。\n",
    "因此，无法并行化相互依赖的操作。"
   ]
  },
  {
   "cell_type": "markdown",
   "id": "589e5a04",
   "metadata": {
    "origin_pos": 14
   },
   "source": [
    "![编程语言前端和深度学习框架后端。](../img/frontends.png)\n",
    ":width:`300px`\n",
    ":label:`fig_frontends`\n",
    "\n",
    "让我们再看一个玩具示例来更好地理解依赖图。"
   ]
  },
  {
   "cell_type": "code",
   "execution_count": 4,
   "id": "e7220a99",
   "metadata": {
    "execution": {
     "iopub.execute_input": "2023-08-18T19:48:02.677729Z",
     "iopub.status.busy": "2023-08-18T19:48:02.677284Z",
     "iopub.status.idle": "2023-08-18T19:48:02.875593Z",
     "shell.execute_reply": "2023-08-18T19:48:02.874563Z"
    },
    "origin_pos": 16,
    "tab": [
     "pytorch"
    ]
   },
   "outputs": [
    {
     "data": {
      "text/plain": [
       "tensor([[3., 3.]], device='cuda:0')"
      ]
     },
     "execution_count": 4,
     "metadata": {},
     "output_type": "execute_result"
    }
   ],
   "source": [
    "x = torch.ones((1, 2), device=device)\n",
    "y = torch.ones((1, 2), device=device)\n",
    "z = x * y + 2\n",
    "z"
   ]
  },
  {
   "cell_type": "markdown",
   "id": "adf45eb3",
   "metadata": {
    "origin_pos": 17
   },
   "source": [
    "![后端跟踪计算图中各个步骤之间的依赖关系。](../img/asyncgraph.svg)\n",
    ":label:`fig_asyncgraph`\n",
    "\n",
    "\n",
    "\n",
    "上面的代码片段也在 :numref:`fig_asyncgraph` 中进行了说明。每当 Python 前端线程执行前三条语句中的任何一条时，它只是将任务返回到后端队列。当需要*打印*最后一条语句的结果时，Python 前端线程将等待 C++ 后端线程完成变量 `z` 的结果计算。这种设计的一个好处是 Python 前端线程不需要执行实际的计算。因此，无论 Python 的性能如何，对程序的整体性能影响很小。:numref:`fig_threading` 说明了前端和后端是如何交互的。\n",
    "\n",
    "![前端和后端的交互。](../img/threading.svg)\n",
    ":label:`fig_threading`\n",
    "\n",
    "\n",
    "\n",
    "\n",
    "## 障碍和阻塞器"
   ]
  },
  {
   "cell_type": "markdown",
   "id": "62ec654b",
   "metadata": {
    "origin_pos": 22
   },
   "source": [
    "## 提高计算能力"
   ]
  },
  {
   "cell_type": "markdown",
   "id": "922d9547",
   "metadata": {
    "origin_pos": 26
   },
   "source": [
    "## 摘要\n",
    "\n",
    "* 深度学习框架可以将Python前端与执行后端解耦。这允许快速异步地向后端插入命令并实现相关的并行性。\n",
    "* 异步性使得前端响应非常迅速。但是，请注意不要过度填充任务队列，因为这可能导致内存消耗过大。建议每个小批量同步一次，以保持前端和后端大致同步。\n",
    "* 芯片供应商提供了先进的性能分析工具，可以更细致地了解深度学习的效率。"
   ]
  },
  {
   "cell_type": "markdown",
   "id": "58dca706",
   "metadata": {
    "origin_pos": 28
   },
   "source": [
    "## 练习题"
   ]
  },
  {
   "cell_type": "markdown",
   "id": "3ca7cabd",
   "metadata": {
    "origin_pos": 30,
    "tab": [
     "pytorch"
    ]
   },
   "source": [
    "1. 在CPU上，对本节中的相同矩阵乘法操作进行基准测试。您是否仍能通过后端观察到异步性？"
   ]
  },
  {
   "cell_type": "markdown",
   "id": "80c5ecfb",
   "metadata": {
    "origin_pos": 32,
    "tab": [
     "pytorch"
    ]
   },
   "source": [
    "[讨论](https://discuss.d2l.ai/t/2564)"
   ]
  }
 ],
 "metadata": {
  "language_info": {
   "name": "python"
  },
  "required_libs": []
 },
 "nbformat": 4,
 "nbformat_minor": 5
}