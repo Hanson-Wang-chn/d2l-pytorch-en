{
 "cells": [
  {
   "cell_type": "markdown",
   "id": "89c47c6d",
   "metadata": {
    "origin_pos": 0
   },
   "source": [
    "# 计算性能\n",
    ":label:`chap_performance`\n",
    "\n",
    "在深度学习中，\n",
    "数据集和模型通常很大，\n",
    "这涉及到大量的计算。\n",
    "因此，计算性能非常重要。\n",
    "本章将重点关注影响计算性能的主要因素：\n",
    "命令式编程、符号编程、异步计算、自动并行化和多GPU计算。\n",
    "通过学习本章，你可以进一步提高前面章节中实现的模型的计算性能，\n",
    "例如，在不影响准确性的情况下减少训练时间。\n",
    "\n",
    ":begin_tab:toc\n",
    " - [hybridize](hybridize.ipynb)\n",
    " - [async-computation](async-computation.ipynb)\n",
    " - [auto-parallelism](auto-parallelism.ipynb)\n",
    " - [hardware](hardware.ipynb)\n",
    " - [multiple-gpus](multiple-gpus.ipynb)\n",
    " - [multiple-gpus-concise](multiple-gpus-concise.ipynb)\n",
    " - [parameterserver](parameterserver.ipynb)\n",
    ":end_tab:"
   ]
  }
 ],
 "metadata": {
  "language_info": {
   "name": "python"
  },
  "required_libs": []
 },
 "nbformat": 4,
 "nbformat_minor": 5
}