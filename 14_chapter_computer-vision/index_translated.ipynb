{
 "cells": [
  {
   "cell_type": "markdown",
   "id": "95c6ad63",
   "metadata": {
    "origin_pos": 0
   },
   "source": [
    "# 计算机视觉\n",
    ":label:`chap_cv`\n",
    "\n",
    "无论是医疗诊断、自动驾驶车辆、摄像头监控，还是智能滤镜，计算机视觉领域的许多应用都与我们当前和未来的生活息息相关。\n",
    "近年来，深度学习已成为提升计算机视觉系统性能的变革力量。\n",
    "可以说，最先进的计算机视觉应用几乎离不开深度学习。\n",
    "鉴于此，本章将聚焦于计算机视觉领域，并探讨最近在学术界和工业界有影响力的的方法和应用。\n",
    "\n",
    "在:numref:`chap_cnn` 和 :numref:`chap_modern_cnn` 中，我们研究了计算机视觉中常用的多种卷积神经网络，并将其应用于简单的图像分类任务。\n",
    "在本章开始时，我们将描述两种可能提高模型泛化能力的方法，即*图像增广*和*微调*，并将它们应用于图像分类。\n",
    "由于深度神经网络可以有效地在多个层次上表示图像，\n",
    "这种分层表示已经在各种计算机视觉任务中成功应用，如*目标检测*、*语义分割*和*风格迁移*。\n",
    "基于利用计算机视觉中的分层表示这一关键思想，我们将从目标检测的主要组件和技术开始。接着，我们将展示如何使用*全卷积网络*进行图像的语义分割。然后，我们将解释如何使用风格迁移技术生成像本书封面那样的图像。\n",
    "最后，我们将通过在两个流行的计算机视觉基准数据集上应用本章及前几章的内容来结束本章。\n",
    "\n",
    ":begin_tab:toc\n",
    " - [image-augmentation](image-augmentation.ipynb)\n",
    " - [fine-tuning](fine-tuning.ipynb)\n",
    " - [bounding-box](bounding-box.ipynb)\n",
    " - [anchor](anchor.ipynb)\n",
    " - [multiscale-object-detection](multiscale-object-detection.ipynb)\n",
    " - [object-detection-dataset](object-detection-dataset.ipynb)\n",
    " - [ssd](ssd.ipynb)\n",
    " - [rcnn](rcnn.ipynb)\n",
    " - [semantic-segmentation-and-dataset](semantic-segmentation-and-dataset.ipynb)\n",
    " - [transposed-conv](transposed-conv.ipynb)\n",
    " - [fcn](fcn.ipynb)\n",
    " - [neural-style](neural-style.ipynb)\n",
    " - [kaggle-cifar10](kaggle-cifar10.ipynb)\n",
    " - [kaggle-dog](kaggle-dog.ipynb)\n",
    ":end_tab:"
   ]
  }
 ],
 "metadata": {
  "language_info": {
   "name": "python"
  },
  "required_libs": []
 },
 "nbformat": 4,
 "nbformat_minor": 5
}