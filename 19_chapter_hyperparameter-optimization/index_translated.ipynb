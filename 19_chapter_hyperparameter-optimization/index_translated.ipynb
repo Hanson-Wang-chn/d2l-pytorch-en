{
 "cells": [
  {
   "cell_type": "markdown",
   "id": "b802985c",
   "metadata": {
    "origin_pos": 0
   },
   "source": [
    "# 超参数优化\n",
    ":label:`chap_hyperopt`\n",
    "\n",
    "**Aaron Klein** (*Amazon*), **Matthias Seeger** (*Amazon*), and **Cedric Archambeau** (*Amazon*)\n",
    "\n",
    "每个机器学习模型的性能都取决于其超参数。它们控制学习算法或底层统计模型的结构。然而，在实践中没有一种通用的方法来选择超参数。相反，超参数通常以试错的方式设置，有时甚至被从业者保留为默认值，导致次优泛化。\n",
    "\n",
    "超参数优化通过将其视为一个优化问题来系统地解决这个问题：一个好的超参数集应该（至少）最小化验证误差。与机器学习中出现的大多数其他优化问题相比，超参数优化是一个嵌套的问题，每次迭代都需要训练和验证一个机器学习模型。\n",
    "\n",
    "在本章中，我们将首先介绍超参数优化的基础知识。我们还将介绍一些最近的进展，这些进展通过利用原始目标函数的廉价评估代理来提高超参数优化的整体效率。在本章结束时，您应该能够应用最先进的超参数优化技术来优化自己的机器学习算法的超参数。\n",
    "\n",
    ":begin_tab:toc\n",
    " - [hyperopt-intro](hyperopt-intro.ipynb)\n",
    " - [hyperopt-api](hyperopt-api.ipynb)\n",
    " - [rs-async.md](rs-async.md.ipynb)\n",
    " - [sh-intro](sh-intro.ipynb)\n",
    " - [sh-async](sh-async.ipynb)\n",
    ":end_tab:"
   ]
  }
 ],
 "metadata": {
  "language_info": {
   "name": "python"
  },
  "required_libs": []
 },
 "nbformat": 4,
 "nbformat_minor": 5
}