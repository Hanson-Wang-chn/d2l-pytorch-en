{
 "cells": [
  {
   "cell_type": "markdown",
   "id": "05d9c330",
   "metadata": {
    "origin_pos": 1
   },
   "source": [
    "# 文档"
   ]
  },
  {
   "cell_type": "markdown",
   "id": "c9890286",
   "metadata": {
    "origin_pos": 3,
    "tab": [
     "pytorch"
    ]
   },
   "source": [
    "虽然我们不可能介绍每一个 PyTorch 函数和类（而且这些信息可能会很快过时），[API 文档](https://pytorch.org/docs/stable/index.html) 以及额外的 [教程](https://pytorch.org/tutorials/beginner/basics/intro.html) 和示例提供了这样的文档。本节提供了一些关于如何探索 PyTorch API 的指导。"
   ]
  },
  {
   "cell_type": "code",
   "execution_count": 1,
   "id": "a253b1fa",
   "metadata": {
    "execution": {
     "iopub.execute_input": "2023-08-18T19:32:02.297125Z",
     "iopub.status.busy": "2023-08-18T19:32:02.296778Z",
     "iopub.status.idle": "2023-08-18T19:32:04.430872Z",
     "shell.execute_reply": "2023-08-18T19:32:04.429820Z"
    },
    "origin_pos": 6,
    "tab": [
     "pytorch"
    ]
   },
   "outputs": [],
   "source": [
    "import torch"
   ]
  },
  {
   "cell_type": "markdown",
   "id": "257c6aae",
   "metadata": {
    "origin_pos": 9
   },
   "source": [
    "## 模块中的函数和类\n",
    "\n",
    "要了解模块中可以调用哪些函数和类，\n",
    "我们使用 `dir` 函数。例如，我们可以\n",
    "（**查询生成随机数模块的所有属性**）："
   ]
  },
  {
   "cell_type": "code",
   "execution_count": 2,
   "id": "bde8a5b0",
   "metadata": {
    "attributes": {
     "classes": [],
     "id": "",
     "n": "1"
    },
    "execution": {
     "iopub.execute_input": "2023-08-18T19:32:04.435694Z",
     "iopub.status.busy": "2023-08-18T19:32:04.434971Z",
     "iopub.status.idle": "2023-08-18T19:32:04.440648Z",
     "shell.execute_reply": "2023-08-18T19:32:04.439467Z"
    },
    "origin_pos": 11,
    "tab": [
     "pytorch"
    ]
   },
   "outputs": [
    {
     "name": "stdout",
     "output_type": "stream",
     "text": [
      "['AbsTransform', 'AffineTransform', 'Bernoulli', 'Beta', 'Binomial', 'CatTransform', 'Categorical', 'Cauchy', 'Chi2', 'ComposeTransform', 'ContinuousBernoulli', 'CorrCholeskyTransform', 'CumulativeDistributionTransform', 'Dirichlet', 'Distribution', 'ExpTransform', 'Exponential', 'ExponentialFamily', 'FisherSnedecor', 'Gamma', 'Geometric', 'Gumbel', 'HalfCauchy', 'HalfNormal', 'Independent', 'IndependentTransform', 'InverseGamma', 'Kumaraswamy', 'LKJCholesky', 'Laplace', 'LogNormal', 'LogisticNormal', 'LowRankMultivariateNormal', 'LowerCholeskyTransform', 'MixtureSameFamily', 'Multinomial', 'MultivariateNormal', 'NegativeBinomial', 'Normal', 'OneHotCategorical', 'OneHotCategoricalStraightThrough', 'Pareto', 'Poisson', 'PositiveDefiniteTransform', 'PowerTransform', 'RelaxedBernoulli', 'RelaxedOneHotCategorical', 'ReshapeTransform', 'SigmoidTransform', 'SoftmaxTransform', 'SoftplusTransform', 'StackTransform', 'StickBreakingTransform', 'StudentT', 'TanhTransform', 'Transform', 'TransformedDistribution', 'Uniform', 'VonMises', 'Weibull', 'Wishart', '__all__', '__builtins__', '__cached__', '__doc__', '__file__', '__loader__', '__name__', '__package__', '__path__', '__spec__', 'bernoulli', 'beta', 'biject_to', 'binomial', 'categorical', 'cauchy', 'chi2', 'constraint_registry', 'constraints', 'continuous_bernoulli', 'dirichlet', 'distribution', 'exp_family', 'exponential', 'fishersnedecor', 'gamma', 'geometric', 'gumbel', 'half_cauchy', 'half_normal', 'identity_transform', 'independent', 'inverse_gamma', 'kl', 'kl_divergence', 'kumaraswamy', 'laplace', 'lkj_cholesky', 'log_normal', 'logistic_normal', 'lowrank_multivariate_normal', 'mixture_same_family', 'multinomial', 'multivariate_normal', 'negative_binomial', 'normal', 'one_hot_categorical', 'pareto', 'poisson', 'register_kl', 'relaxed_bernoulli', 'relaxed_categorical', 'studentT', 'transform_to', 'transformed_distribution', 'transforms', 'uniform', 'utils', 'von_mises', 'weibull', 'wishart']\n"
     ]
    }
   ],
   "source": [
    "print(dir(torch.distributions))"
   ]
  },
  {
   "cell_type": "markdown",
   "id": "428e4ff3",
   "metadata": {
    "origin_pos": 14
   },
   "source": [
    "一般来说，我们可以忽略以 `__` 开头和结尾的函数（Python中的特殊对象）或以单个 `_` 开头的函数（通常是内部函数）。根据剩余的函数或属性名称，我们可能猜测该模块提供了生成随机数的各种方法，包括从均匀分布 (`uniform`)、正态分布 (`normal`) 和多项分布 (`multinomial`) 中抽样。\n",
    "\n",
    "## 具体函数和类\n",
    "\n",
    "对于如何使用特定函数或类的具体说明，我们可以调用 `help` 函数。例如，让我们[**探索张量的 `ones` 函数的使用说明**]。"
   ]
  },
  {
   "cell_type": "code",
   "execution_count": 3,
   "id": "31f291f6",
   "metadata": {
    "execution": {
     "iopub.execute_input": "2023-08-18T19:32:04.444454Z",
     "iopub.status.busy": "2023-08-18T19:32:04.444071Z",
     "iopub.status.idle": "2023-08-18T19:32:04.449954Z",
     "shell.execute_reply": "2023-08-18T19:32:04.448745Z"
    },
    "origin_pos": 16,
    "tab": [
     "pytorch"
    ]
   },
   "outputs": [
    {
     "name": "stdout",
     "output_type": "stream",
     "text": [
      "Help on built-in function ones in module torch:\n",
      "\n",
      "ones(...)\n",
      "    ones(*size, *, out=None, dtype=None, layout=torch.strided, device=None, requires_grad=False) -> Tensor\n",
      "    \n",
      "    Returns a tensor filled with the scalar value `1`, with the shape defined\n",
      "    by the variable argument :attr:`size`.\n",
      "    \n",
      "    Args:\n",
      "        size (int...): a sequence of integers defining the shape of the output tensor.\n",
      "            Can be a variable number of arguments or a collection like a list or tuple.\n",
      "    \n",
      "    Keyword arguments:\n",
      "        out (Tensor, optional): the output tensor.\n",
      "        dtype (:class:`torch.dtype`, optional): the desired data type of returned tensor.\n",
      "            Default: if ``None``, uses a global default (see :func:`torch.set_default_dtype`).\n",
      "        layout (:class:`torch.layout`, optional): the desired layout of returned Tensor.\n",
      "            Default: ``torch.strided``.\n",
      "        device (:class:`torch.device`, optional): the desired device of returned tensor.\n",
      "            Default: if ``None``, uses the current device for the default tensor type\n",
      "            (see :func:`torch.set_default_device`). :attr:`device` will be the CPU\n",
      "            for CPU tensor types and the current CUDA device for CUDA tensor types.\n",
      "        requires_grad (bool, optional): If autograd should record operations on the\n",
      "            returned tensor. Default: ``False``.\n",
      "    \n",
      "    Example::\n",
      "    \n",
      "        >>> torch.ones(2, 3)\n",
      "        tensor([[ 1.,  1.,  1.],\n",
      "                [ 1.,  1.,  1.]])\n",
      "    \n",
      "        >>> torch.ones(5)\n",
      "        tensor([ 1.,  1.,  1.,  1.,  1.])\n",
      "\n"
     ]
    }
   ],
   "source": [
    "help(torch.ones)"
   ]
  },
  {
   "cell_type": "markdown",
   "id": "f9625ad2",
   "metadata": {
    "origin_pos": 19
   },
   "source": [
    "从文档中可以看出，`ones` 函数\n",
    "创建一个指定形状的新张量\n",
    "并将所有元素设置为 1 的值。\n",
    "只要有可能，你应该（**运行一个快速测试**）\n",
    "来确认你的理解："
   ]
  },
  {
   "cell_type": "code",
   "execution_count": null,
   "id": "aef47cd1",
   "metadata": {
    "execution": {
     "iopub.execute_input": "2023-08-18T19:32:04.453936Z",
     "iopub.status.busy": "2023-08-18T19:32:04.453370Z",
     "iopub.status.idle": "2023-08-18T19:32:04.485935Z",
     "shell.execute_reply": "2023-08-18T19:32:04.485079Z"
    },
    "origin_pos": 21,
    "tab": [
     "pytorch"
    ]
   },
   "outputs": [
    {
     "data": {
      "text/plain": [
       "tensor([1., 1., 1., 1.])"
      ]
     },
     "execution_count": 4,
     "metadata": {},
     "output_type": "execute_result"
    }
   ],
   "source": [
    "torch.ones(4)"
   ]
  },
  {
   "cell_type": "markdown",
   "id": "53ebdea1",
   "metadata": {
    "origin_pos": 24
   },
   "source": [
    "在Jupyter笔记本中，我们可以使用`?`在另一个窗口中显示文档。例如，`list?`将创建几乎与`help(list)`相同的内容，并在新的浏览器窗口中显示。此外，如果我们使用两个问号，例如`list??`，还将显示实现该功能的Python代码。\n",
    "\n",
    "官方文档提供了许多本书未涵盖的描述和示例。\n",
    "我们强调重要的用例，\n",
    "这些用例可以帮助您快速上手解决实际问题，\n",
    "而不是全面覆盖所有内容。\n",
    "我们还鼓励您研究库的源代码，\n",
    "以查看高质量生产代码实现的示例。\n",
    "通过这样做，除了成为一名更好的科学家之外，\n",
    "您还将成为一名更好的工程师。"
   ]
  },
  {
   "cell_type": "markdown",
   "id": "b4188fc4",
   "metadata": {
    "origin_pos": 26,
    "tab": [
     "pytorch"
    ]
   },
   "source": [
    "[讨论](https://discuss.d2l.ai/t/39)"
   ]
  }
 ],
 "metadata": {
  "kernelspec": {
   "display_name": "d2l-en",
   "language": "python",
   "name": "python3"
  },
  "language_info": {
   "codemirror_mode": {
    "name": "ipython",
    "version": 3
   },
   "file_extension": ".py",
   "mimetype": "text/x-python",
   "name": "python",
   "nbconvert_exporter": "python",
   "pygments_lexer": "ipython3",
   "version": "3.10.16"
  },
  "required_libs": []
 },
 "nbformat": 4,
 "nbformat_minor": 5
}