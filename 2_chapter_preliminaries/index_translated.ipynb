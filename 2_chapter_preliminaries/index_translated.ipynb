{
 "cells": [
  {
   "cell_type": "markdown",
   "id": "7cac0fb8",
   "metadata": {
    "origin_pos": 0
   },
   "source": [
    "# 准备知识\n",
    ":label:`chap_preliminaries`\n",
    "\n",
    "为了准备深入学习深度学习，你需要一些基本技能：\n",
    "(i) 存储和操作数据的技术；\n",
    "(ii) 从各种来源摄取和预处理数据的库；\n",
    "(iii) 对高维数据元素应用的基本线性代数运算的知识；\n",
    "(iv) 足够的微积分知识来确定调整每个参数的方向以减小损失函数；\n",
    "(v) 自动计算导数的能力，这样你可以忘记刚刚学到的大部分微积分；\n",
    "(vi) 在不确定性下进行推理的主要语言——概率的基础流畅度；\n",
    "以及 (vii) 当你遇到困难时，在官方文档中查找答案的能力。\n",
    "\n",
    "简而言之，本章为你提供了快速介绍基础知识，以便你能跟随本书中的*大多数*技术内容。\n",
    "\n",
    ":begin_tab:toc\n",
    " - [ndarray](ndarray.ipynb)\n",
    " - [pandas](pandas.ipynb)\n",
    " - [linear-algebra](linear-algebra.ipynb)\n",
    " - [calculus](calculus.ipynb)\n",
    " - [autograd](autograd.ipynb)\n",
    " - [probability](probability.ipynb)\n",
    " - [lookup-api](lookup-api.ipynb)\n",
    ":end_tab:"
   ]
  }
 ],
 "metadata": {
  "language_info": {
   "name": "python"
  },
  "required_libs": []
 },
 "nbformat": 4,
 "nbformat_minor": 5
}