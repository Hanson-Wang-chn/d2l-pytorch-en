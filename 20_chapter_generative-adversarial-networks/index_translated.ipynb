{
 "cells": [
  {
   "cell_type": "markdown",
   "id": "294dfbf3",
   "metadata": {
    "origin_pos": 0
   },
   "source": [
    "# 生成对抗网络\n",
    ":label:`chap_gans`\n",
    "\n",
    ":begin_tab:toc\n",
    " - [gan](gan.ipynb)\n",
    " - [dcgan](dcgan.ipynb)\n",
    ":end_tab:"
   ]
  }
 ],
 "metadata": {
  "language_info": {
   "name": "python"
  },
  "required_libs": []
 },
 "nbformat": 4,
 "nbformat_minor": 5
}