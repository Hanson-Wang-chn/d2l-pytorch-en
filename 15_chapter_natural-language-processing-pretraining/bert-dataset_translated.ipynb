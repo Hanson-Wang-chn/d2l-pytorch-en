{
 "cells": [
  {
   "cell_type": "markdown",
   "id": "14c03cda",
   "metadata": {
    "origin_pos": 0
   },
   "source": [
    "# 用于预训练BERT的数据集\n",
    ":label:`sec_bert-dataset`\n",
    "\n",
    "为了预训练如:numref:`sec_bert`中实现的BERT模型，我们需要生成理想格式的数据集以促进两个预训练任务：掩码语言建模和下一句预测。一方面，原始的BERT模型是在BookCorpus和English Wikipedia这两个巨大语料库的合并上进行预训练的（见:numref:`subsec_bert_pretraining_tasks`），这使得大多数本书的读者难以运行。另一方面，现成的预训练BERT模型可能不适合医学等特定领域的应用。因此，在定制的数据集上预训练BERT变得越来越流行。为了便于演示BERT预训练，我们使用了一个较小的语料库WikiText-2 :cite:`Merity.Xiong.Bradbury.ea.2016`。\n",
    "\n",
    "与用于预训练word2vec的PTB数据集相比（见:numref:`sec_word2vec_data`），WikiText-2 (i)保留了原始标点符号，使其适合下一句预测；(ii)保留了原始大小写和数字；(iii)规模超过两倍大。"
   ]
  },
  {
   "cell_type": "code",
   "execution_count": 1,
   "id": "b349c114",
   "metadata": {
    "execution": {
     "iopub.execute_input": "2023-08-18T19:27:51.349012Z",
     "iopub.status.busy": "2023-08-18T19:27:51.348380Z",
     "iopub.status.idle": "2023-08-18T19:27:54.176466Z",
     "shell.execute_reply": "2023-08-18T19:27:54.175190Z"
    },
    "origin_pos": 2,
    "tab": [
     "pytorch"
    ]
   },
   "outputs": [],
   "source": [
    "import os\n",
    "import random\n",
    "import torch\n",
    "from d2l import torch as d2l"
   ]
  },
  {
   "cell_type": "markdown",
   "id": "00639076",
   "metadata": {
    "origin_pos": 3
   },
   "source": [
    "在[**the WikiText-2 dataset**]中，\n",
    "每一行代表一个段落，其中\n",
    "任何标点符号与其前面的词之间都插入了空格。\n",
    "保留至少包含两个句子的段落。\n",
    "为了简化，我们仅使用句号作为分隔符来分割句子。\n",
    "更复杂的句子分割技术讨论将在本节末尾的练习中进行。"
   ]
  },
  {
   "cell_type": "code",
   "execution_count": 2,
   "id": "ea9beb6f",
   "metadata": {
    "execution": {
     "iopub.execute_input": "2023-08-18T19:27:54.181061Z",
     "iopub.status.busy": "2023-08-18T19:27:54.180516Z",
     "iopub.status.idle": "2023-08-18T19:27:54.187506Z",
     "shell.execute_reply": "2023-08-18T19:27:54.186224Z"
    },
    "origin_pos": 4,
    "tab": [
     "pytorch"
    ]
   },
   "outputs": [],
   "source": [
    "#@save\n",
    "d2l.DATA_HUB['wikitext-2'] = (\n",
    "    'https://s3.amazonaws.com/research.metamind.io/wikitext/'\n",
    "    'wikitext-2-v1.zip', '3c914d17d80b1459be871a5039ac23e752a53cbe')\n",
    "\n",
    "#@save\n",
    "def _read_wiki(data_dir):\n",
    "    file_name = os.path.join(data_dir, 'wiki.train.tokens')\n",
    "    with open(file_name, 'r') as f:\n",
    "        lines = f.readlines()\n",
    "    # Uppercase letters are converted to lowercase ones\n",
    "    paragraphs = [line.strip().lower().split(' . ')\n",
    "                  for line in lines if len(line.split(' . ')) >= 2]\n",
    "    random.shuffle(paragraphs)\n",
    "    return paragraphs"
   ]
  },
  {
   "cell_type": "markdown",
   "id": "686f3b50",
   "metadata": {
    "origin_pos": 5
   },
   "source": [
    "## 定义预训练任务的辅助函数\n",
    "\n",
    "在接下来的内容中，\n",
    "我们首先实现两个BERT预训练任务的辅助函数：\n",
    "下一句预测和掩码语言模型。\n",
    "当将原始文本语料转换为适合预训练BERT的理想格式的数据集时，\n",
    "这些辅助函数将会被调用。\n",
    "\n",
    "### [**生成下一句预测任务**]\n",
    "\n",
    "根据:numref:`subsec_nsp`中的描述，\n",
    "`_get_next_sentence`函数为二分类任务生成一个训练样本。"
   ]
  },
  {
   "cell_type": "code",
   "execution_count": 3,
   "id": "bb7772df",
   "metadata": {
    "execution": {
     "iopub.execute_input": "2023-08-18T19:27:54.193280Z",
     "iopub.status.busy": "2023-08-18T19:27:54.192815Z",
     "iopub.status.idle": "2023-08-18T19:27:54.200587Z",
     "shell.execute_reply": "2023-08-18T19:27:54.199221Z"
    },
    "origin_pos": 6,
    "tab": [
     "pytorch"
    ]
   },
   "outputs": [],
   "source": [
    "#@save\n",
    "def _get_next_sentence(sentence, next_sentence, paragraphs):\n",
    "    if random.random() < 0.5:\n",
    "        is_next = True\n",
    "    else:\n",
    "        # `paragraphs` is a list of lists of lists\n",
    "        next_sentence = random.choice(random.choice(paragraphs))\n",
    "        is_next = False\n",
    "    return sentence, next_sentence, is_next"
   ]
  },
  {
   "cell_type": "markdown",
   "id": "a005849c",
   "metadata": {
    "origin_pos": 7
   },
   "source": [
    "以下函数通过调用 `_get_next_sentence` 函数从输入 `paragraph` 中生成用于下一句预测的训练样本。这里 `paragraph` 是一个句子列表，每个句子都是一个词元列表。参数 `max_len` 指定了预训练期间 BERT 输入序列的最大长度。"
   ]
  },
  {
   "cell_type": "code",
   "execution_count": 4,
   "id": "8a515271",
   "metadata": {
    "execution": {
     "iopub.execute_input": "2023-08-18T19:27:54.204406Z",
     "iopub.status.busy": "2023-08-18T19:27:54.204109Z",
     "iopub.status.idle": "2023-08-18T19:27:54.210105Z",
     "shell.execute_reply": "2023-08-18T19:27:54.209309Z"
    },
    "origin_pos": 8,
    "tab": [
     "pytorch"
    ]
   },
   "outputs": [],
   "source": [
    "#@save\n",
    "def _get_nsp_data_from_paragraph(paragraph, paragraphs, vocab, max_len):\n",
    "    nsp_data_from_paragraph = []\n",
    "    for i in range(len(paragraph) - 1):\n",
    "        tokens_a, tokens_b, is_next = _get_next_sentence(\n",
    "            paragraph[i], paragraph[i + 1], paragraphs)\n",
    "        # Consider 1 '<cls>' token and 2 '<sep>' tokens\n",
    "        if len(tokens_a) + len(tokens_b) + 3 > max_len:\n",
    "            continue\n",
    "        tokens, segments = d2l.get_tokens_and_segments(tokens_a, tokens_b)\n",
    "        nsp_data_from_paragraph.append((tokens, segments, is_next))\n",
    "    return nsp_data_from_paragraph"
   ]
  },
  {
   "cell_type": "markdown",
   "id": "074b9a12",
   "metadata": {
    "origin_pos": 9
   },
   "source": [
    "### [**生成掩码语言模型任务**]\n",
    ":label:`subsec_prepare_mlm_data`\n",
    "\n",
    "为了从BERT输入序列生成用于掩码语言模型任务的训练样本，我们定义了以下 `_replace_mlm_tokens` 函数。在其输入中，`tokens` 是表示BERT输入序列的标记列表，`candidate_pred_positions` 是BERT输入序列的标记索引列表，不包括特殊标记（在掩码语言模型任务中不会预测特殊标记），`num_mlm_preds` 表示预测的数量（回想15%的随机标记进行预测）。根据:numref:`subsec_mlm` 中对掩码语言模型任务的定义，在每个预测位置，输入可以被替换为特殊的“&lt;mask&gt;”标记或随机标记，或者保持不变。最终，该函数返回可能替换后的输入标记、发生预测的标记索引以及这些预测的标签。"
   ]
  },
  {
   "cell_type": "code",
   "execution_count": 5,
   "id": "5b4c14fe",
   "metadata": {
    "execution": {
     "iopub.execute_input": "2023-08-18T19:27:54.213353Z",
     "iopub.status.busy": "2023-08-18T19:27:54.213061Z",
     "iopub.status.idle": "2023-08-18T19:27:54.220268Z",
     "shell.execute_reply": "2023-08-18T19:27:54.219354Z"
    },
    "origin_pos": 10,
    "tab": [
     "pytorch"
    ]
   },
   "outputs": [],
   "source": [
    "#@save\n",
    "def _replace_mlm_tokens(tokens, candidate_pred_positions, num_mlm_preds,\n",
    "                        vocab):\n",
    "    # For the input of a masked language model, make a new copy of tokens and\n",
    "    # replace some of them by '<mask>' or random tokens\n",
    "    mlm_input_tokens = [token for token in tokens]\n",
    "    pred_positions_and_labels = []\n",
    "    # Shuffle for getting 15% random tokens for prediction in the masked\n",
    "    # language modeling task\n",
    "    random.shuffle(candidate_pred_positions)\n",
    "    for mlm_pred_position in candidate_pred_positions:\n",
    "        if len(pred_positions_and_labels) >= num_mlm_preds:\n",
    "            break\n",
    "        masked_token = None\n",
    "        # 80% of the time: replace the word with the '<mask>' token\n",
    "        if random.random() < 0.8:\n",
    "            masked_token = '<mask>'\n",
    "        else:\n",
    "            # 10% of the time: keep the word unchanged\n",
    "            if random.random() < 0.5:\n",
    "                masked_token = tokens[mlm_pred_position]\n",
    "            # 10% of the time: replace the word with a random word\n",
    "            else:\n",
    "                masked_token = random.choice(vocab.idx_to_token)\n",
    "        mlm_input_tokens[mlm_pred_position] = masked_token\n",
    "        pred_positions_and_labels.append(\n",
    "            (mlm_pred_position, tokens[mlm_pred_position]))\n",
    "    return mlm_input_tokens, pred_positions_and_labels"
   ]
  },
  {
   "cell_type": "markdown",
   "id": "9cc4dc18",
   "metadata": {
    "origin_pos": 11
   },
   "source": [
    "通过调用上述 `_replace_mlm_tokens` 函数，以下函数将 BERT 输入序列 (`tokens`) 作为输入，并返回输入 tokens 的索引（如 :numref:`subsec_mlm` 中所述，可能经过替换后），进行预测的 token 索引，以及这些预测的标签索引。"
   ]
  },
  {
   "cell_type": "code",
   "execution_count": 6,
   "id": "c71c28c0",
   "metadata": {
    "execution": {
     "iopub.execute_input": "2023-08-18T19:27:54.224660Z",
     "iopub.status.busy": "2023-08-18T19:27:54.224368Z",
     "iopub.status.idle": "2023-08-18T19:27:54.231144Z",
     "shell.execute_reply": "2023-08-18T19:27:54.230276Z"
    },
    "origin_pos": 12,
    "tab": [
     "pytorch"
    ]
   },
   "outputs": [],
   "source": [
    "#@save\n",
    "def _get_mlm_data_from_tokens(tokens, vocab):\n",
    "    candidate_pred_positions = []\n",
    "    # `tokens` is a list of strings\n",
    "    for i, token in enumerate(tokens):\n",
    "        # Special tokens are not predicted in the masked language modeling\n",
    "        # task\n",
    "        if token in ['<cls>', '<sep>']:\n",
    "            continue\n",
    "        candidate_pred_positions.append(i)\n",
    "    # 15% of random tokens are predicted in the masked language modeling task\n",
    "    num_mlm_preds = max(1, round(len(tokens) * 0.15))\n",
    "    mlm_input_tokens, pred_positions_and_labels = _replace_mlm_tokens(\n",
    "        tokens, candidate_pred_positions, num_mlm_preds, vocab)\n",
    "    pred_positions_and_labels = sorted(pred_positions_and_labels,\n",
    "                                       key=lambda x: x[0])\n",
    "    pred_positions = [v[0] for v in pred_positions_and_labels]\n",
    "    mlm_pred_labels = [v[1] for v in pred_positions_and_labels]\n",
    "    return vocab[mlm_input_tokens], pred_positions, vocab[mlm_pred_labels]"
   ]
  },
  {
   "cell_type": "markdown",
   "id": "d4716fe1",
   "metadata": {
    "origin_pos": 13
   },
   "source": [
    "## 将文本转换为预训练数据集\n",
    "\n",
    "现在我们几乎已经准备好为预训练 BERT 定制一个 `Dataset` 类。\n",
    "在此之前，\n",
    "我们还需要定义一个辅助函数 `_pad_bert_inputs`\n",
    "来[**在输入中添加特殊的“&lt;pad&gt;”标记。**]\n",
    "它的参数 `examples` 包含了来自两个预训练任务的辅助函数 `_get_nsp_data_from_paragraph` 和 `_get_mlm_data_from_tokens` 的输出。"
   ]
  },
  {
   "cell_type": "code",
   "execution_count": 7,
   "id": "9b2d2247",
   "metadata": {
    "execution": {
     "iopub.execute_input": "2023-08-18T19:27:54.234922Z",
     "iopub.status.busy": "2023-08-18T19:27:54.234060Z",
     "iopub.status.idle": "2023-08-18T19:27:54.243205Z",
     "shell.execute_reply": "2023-08-18T19:27:54.242138Z"
    },
    "origin_pos": 15,
    "tab": [
     "pytorch"
    ]
   },
   "outputs": [],
   "source": [
    "#@save\n",
    "def _pad_bert_inputs(examples, max_len, vocab):\n",
    "    max_num_mlm_preds = round(max_len * 0.15)\n",
    "    all_token_ids, all_segments, valid_lens,  = [], [], []\n",
    "    all_pred_positions, all_mlm_weights, all_mlm_labels = [], [], []\n",
    "    nsp_labels = []\n",
    "    for (token_ids, pred_positions, mlm_pred_label_ids, segments,\n",
    "         is_next) in examples:\n",
    "        all_token_ids.append(torch.tensor(token_ids + [vocab['<pad>']] * (\n",
    "            max_len - len(token_ids)), dtype=torch.long))\n",
    "        all_segments.append(torch.tensor(segments + [0] * (\n",
    "            max_len - len(segments)), dtype=torch.long))\n",
    "        # `valid_lens` excludes count of '<pad>' tokens\n",
    "        valid_lens.append(torch.tensor(len(token_ids), dtype=torch.float32))\n",
    "        all_pred_positions.append(torch.tensor(pred_positions + [0] * (\n",
    "            max_num_mlm_preds - len(pred_positions)), dtype=torch.long))\n",
    "        # Predictions of padded tokens will be filtered out in the loss via\n",
    "        # multiplication of 0 weights\n",
    "        all_mlm_weights.append(\n",
    "            torch.tensor([1.0] * len(mlm_pred_label_ids) + [0.0] * (\n",
    "                max_num_mlm_preds - len(pred_positions)),\n",
    "                dtype=torch.float32))\n",
    "        all_mlm_labels.append(torch.tensor(mlm_pred_label_ids + [0] * (\n",
    "            max_num_mlm_preds - len(mlm_pred_label_ids)), dtype=torch.long))\n",
    "        nsp_labels.append(torch.tensor(is_next, dtype=torch.long))\n",
    "    return (all_token_ids, all_segments, valid_lens, all_pred_positions,\n",
    "            all_mlm_weights, all_mlm_labels, nsp_labels)"
   ]
  },
  {
   "cell_type": "markdown",
   "id": "fdc8f394",
   "metadata": {
    "origin_pos": 16
   },
   "source": [
    "将用于生成两个预训练任务的训练样本的辅助函数，以及用于填充输入的辅助函数放在一起，我们定制了以下 `_WikiTextDataset` 类作为[**预训练 BERT 的 WikiText-2 数据集**]。通过实现 `__getitem__` 函数，我们可以任意访问从 WikiText-2 语料库中的一对句子生成的预训练（掩码语言模型和下一句预测）示例。\n",
    "\n",
    "原始的 BERT 模型使用词汇量为 30000 的 WordPiece 嵌入 :cite:`Wu.Schuster.Chen.ea.2016`。WordPiece 的分词方法是对 :numref:`subsec_Byte_Pair_Encoding` 中的原始字节对编码算法的轻微修改。为了简化，我们使用 `d2l.tokenize` 函数进行分词。出现次数少于五次的不常见标记将被过滤掉。"
   ]
  },
  {
   "cell_type": "code",
   "execution_count": 8,
   "id": "27a00351",
   "metadata": {
    "execution": {
     "iopub.execute_input": "2023-08-18T19:27:54.247275Z",
     "iopub.status.busy": "2023-08-18T19:27:54.246496Z",
     "iopub.status.idle": "2023-08-18T19:27:54.255307Z",
     "shell.execute_reply": "2023-08-18T19:27:54.254197Z"
    },
    "origin_pos": 18,
    "tab": [
     "pytorch"
    ]
   },
   "outputs": [],
   "source": [
    "#@save\n",
    "class _WikiTextDataset(torch.utils.data.Dataset):\n",
    "    def __init__(self, paragraphs, max_len):\n",
    "        # Input `paragraphs[i]` is a list of sentence strings representing a\n",
    "        # paragraph; while output `paragraphs[i]` is a list of sentences\n",
    "        # representing a paragraph, where each sentence is a list of tokens\n",
    "        paragraphs = [d2l.tokenize(\n",
    "            paragraph, token='word') for paragraph in paragraphs]\n",
    "        sentences = [sentence for paragraph in paragraphs\n",
    "                     for sentence in paragraph]\n",
    "        self.vocab = d2l.Vocab(sentences, min_freq=5, reserved_tokens=[\n",
    "            '<pad>', '<mask>', '<cls>', '<sep>'])\n",
    "        # Get data for the next sentence prediction task\n",
    "        examples = []\n",
    "        for paragraph in paragraphs:\n",
    "            examples.extend(_get_nsp_data_from_paragraph(\n",
    "                paragraph, paragraphs, self.vocab, max_len))\n",
    "        # Get data for the masked language model task\n",
    "        examples = [(_get_mlm_data_from_tokens(tokens, self.vocab)\n",
    "                      + (segments, is_next))\n",
    "                     for tokens, segments, is_next in examples]\n",
    "        # Pad inputs\n",
    "        (self.all_token_ids, self.all_segments, self.valid_lens,\n",
    "         self.all_pred_positions, self.all_mlm_weights,\n",
    "         self.all_mlm_labels, self.nsp_labels) = _pad_bert_inputs(\n",
    "            examples, max_len, self.vocab)\n",
    "\n",
    "    def __getitem__(self, idx):\n",
    "        return (self.all_token_ids[idx], self.all_segments[idx],\n",
    "                self.valid_lens[idx], self.all_pred_positions[idx],\n",
    "                self.all_mlm_weights[idx], self.all_mlm_labels[idx],\n",
    "                self.nsp_labels[idx])\n",
    "\n",
    "    def __len__(self):\n",
    "        return len(self.all_token_ids)"
   ]
  },
  {
   "cell_type": "markdown",
   "id": "16d11c15",
   "metadata": {
    "origin_pos": 19
   },
   "source": [
    "通过使用 `_read_wiki` 函数和 `_WikiTextDataset` 类，我们定义了以下 `load_data_wiki` 来[**下载 WikiText-2 数据集并从中生成预训练示例**]。"
   ]
  },
  {
   "cell_type": "code",
   "execution_count": 9,
   "id": "6e8efaa8",
   "metadata": {
    "execution": {
     "iopub.execute_input": "2023-08-18T19:27:54.258912Z",
     "iopub.status.busy": "2023-08-18T19:27:54.258166Z",
     "iopub.status.idle": "2023-08-18T19:27:54.264300Z",
     "shell.execute_reply": "2023-08-18T19:27:54.263141Z"
    },
    "origin_pos": 21,
    "tab": [
     "pytorch"
    ]
   },
   "outputs": [],
   "source": [
    "#@save\n",
    "def load_data_wiki(batch_size, max_len):\n",
    "    \"\"\"Load the WikiText-2 dataset.\"\"\"\n",
    "    num_workers = d2l.get_dataloader_workers()\n",
    "    data_dir = d2l.download_extract('wikitext-2', 'wikitext-2')\n",
    "    paragraphs = _read_wiki(data_dir)\n",
    "    train_set = _WikiTextDataset(paragraphs, max_len)\n",
    "    train_iter = torch.utils.data.DataLoader(train_set, batch_size,\n",
    "                                        shuffle=True, num_workers=num_workers)\n",
    "    return train_iter, train_set.vocab"
   ]
  },
  {
   "cell_type": "markdown",
   "id": "d2986f60",
   "metadata": {
    "origin_pos": 22
   },
   "source": [
    "将批量大小设置为512，BERT输入序列的最大长度设置为64，我们[**打印出一批BERT预训练示例的形状**]。请注意，在每个BERT输入序列中，有$10$（$64 \\times 0.15$）个位置被预测用于掩码语言建模任务。"
   ]
  },
  {
   "cell_type": "code",
   "execution_count": 10,
   "id": "6b866b9c",
   "metadata": {
    "execution": {
     "iopub.execute_input": "2023-08-18T19:27:54.267688Z",
     "iopub.status.busy": "2023-08-18T19:27:54.267106Z",
     "iopub.status.idle": "2023-08-18T19:28:02.924683Z",
     "shell.execute_reply": "2023-08-18T19:28:02.923277Z"
    },
    "origin_pos": 23,
    "tab": [
     "pytorch"
    ]
   },
   "outputs": [
    {
     "name": "stdout",
     "output_type": "stream",
     "text": [
      "Downloading ../data/wikitext-2-v1.zip from https://s3.amazonaws.com/research.metamind.io/wikitext/wikitext-2-v1.zip...\n"
     ]
    },
    {
     "ename": "BadZipFile",
     "evalue": "File is not a zip file",
     "output_type": "error",
     "traceback": [
      "\u001b[0;31m---------------------------------------------------------------------------\u001b[0m",
      "\u001b[0;31mBadZipFile\u001b[0m                                Traceback (most recent call last)",
      "Cell \u001b[0;32mIn[10], line 2\u001b[0m\n\u001b[1;32m      1\u001b[0m batch_size, max_len \u001b[38;5;241m=\u001b[39m \u001b[38;5;241m512\u001b[39m, \u001b[38;5;241m64\u001b[39m\n\u001b[0;32m----> 2\u001b[0m train_iter, vocab \u001b[38;5;241m=\u001b[39m \u001b[43mload_data_wiki\u001b[49m\u001b[43m(\u001b[49m\u001b[43mbatch_size\u001b[49m\u001b[43m,\u001b[49m\u001b[43m \u001b[49m\u001b[43mmax_len\u001b[49m\u001b[43m)\u001b[49m\n\u001b[1;32m      4\u001b[0m \u001b[38;5;28;01mfor\u001b[39;00m (tokens_X, segments_X, valid_lens_x, pred_positions_X, mlm_weights_X,\n\u001b[1;32m      5\u001b[0m      mlm_Y, nsp_y) \u001b[38;5;129;01min\u001b[39;00m train_iter:\n\u001b[1;32m      6\u001b[0m     \u001b[38;5;28mprint\u001b[39m(tokens_X\u001b[38;5;241m.\u001b[39mshape, segments_X\u001b[38;5;241m.\u001b[39mshape, valid_lens_x\u001b[38;5;241m.\u001b[39mshape,\n\u001b[1;32m      7\u001b[0m           pred_positions_X\u001b[38;5;241m.\u001b[39mshape, mlm_weights_X\u001b[38;5;241m.\u001b[39mshape, mlm_Y\u001b[38;5;241m.\u001b[39mshape,\n\u001b[1;32m      8\u001b[0m           nsp_y\u001b[38;5;241m.\u001b[39mshape)\n",
      "Cell \u001b[0;32mIn[9], line 5\u001b[0m, in \u001b[0;36mload_data_wiki\u001b[0;34m(batch_size, max_len)\u001b[0m\n\u001b[1;32m      3\u001b[0m \u001b[38;5;250m\u001b[39m\u001b[38;5;124;03m\"\"\"Load the WikiText-2 dataset.\"\"\"\u001b[39;00m\n\u001b[1;32m      4\u001b[0m num_workers \u001b[38;5;241m=\u001b[39m d2l\u001b[38;5;241m.\u001b[39mget_dataloader_workers()\n\u001b[0;32m----> 5\u001b[0m data_dir \u001b[38;5;241m=\u001b[39m \u001b[43md2l\u001b[49m\u001b[38;5;241;43m.\u001b[39;49m\u001b[43mdownload_extract\u001b[49m\u001b[43m(\u001b[49m\u001b[38;5;124;43m'\u001b[39;49m\u001b[38;5;124;43mwikitext-2\u001b[39;49m\u001b[38;5;124;43m'\u001b[39;49m\u001b[43m,\u001b[49m\u001b[43m \u001b[49m\u001b[38;5;124;43m'\u001b[39;49m\u001b[38;5;124;43mwikitext-2\u001b[39;49m\u001b[38;5;124;43m'\u001b[39;49m\u001b[43m)\u001b[49m\n\u001b[1;32m      6\u001b[0m paragraphs \u001b[38;5;241m=\u001b[39m _read_wiki(data_dir)\n\u001b[1;32m      7\u001b[0m train_set \u001b[38;5;241m=\u001b[39m _WikiTextDataset(paragraphs, max_len)\n",
      "File \u001b[0;32m~/anaconda3/envs/d2l-en/lib/python3.10/site-packages/d2l/torch.py:3247\u001b[0m, in \u001b[0;36mdownload_extract\u001b[0;34m(name, folder)\u001b[0m\n\u001b[1;32m   3245\u001b[0m data_dir, ext \u001b[38;5;241m=\u001b[39m os\u001b[38;5;241m.\u001b[39mpath\u001b[38;5;241m.\u001b[39msplitext(fname)\n\u001b[1;32m   3246\u001b[0m \u001b[38;5;28;01mif\u001b[39;00m ext \u001b[38;5;241m==\u001b[39m \u001b[38;5;124m'\u001b[39m\u001b[38;5;124m.zip\u001b[39m\u001b[38;5;124m'\u001b[39m:\n\u001b[0;32m-> 3247\u001b[0m     fp \u001b[38;5;241m=\u001b[39m \u001b[43mzipfile\u001b[49m\u001b[38;5;241;43m.\u001b[39;49m\u001b[43mZipFile\u001b[49m\u001b[43m(\u001b[49m\u001b[43mfname\u001b[49m\u001b[43m,\u001b[49m\u001b[43m \u001b[49m\u001b[38;5;124;43m'\u001b[39;49m\u001b[38;5;124;43mr\u001b[39;49m\u001b[38;5;124;43m'\u001b[39;49m\u001b[43m)\u001b[49m\n\u001b[1;32m   3248\u001b[0m \u001b[38;5;28;01melif\u001b[39;00m ext \u001b[38;5;129;01min\u001b[39;00m (\u001b[38;5;124m'\u001b[39m\u001b[38;5;124m.tar\u001b[39m\u001b[38;5;124m'\u001b[39m, \u001b[38;5;124m'\u001b[39m\u001b[38;5;124m.gz\u001b[39m\u001b[38;5;124m'\u001b[39m):\n\u001b[1;32m   3249\u001b[0m     fp \u001b[38;5;241m=\u001b[39m tarfile\u001b[38;5;241m.\u001b[39mopen(fname, \u001b[38;5;124m'\u001b[39m\u001b[38;5;124mr\u001b[39m\u001b[38;5;124m'\u001b[39m)\n",
      "File \u001b[0;32m~/anaconda3/envs/d2l-en/lib/python3.10/zipfile.py:1272\u001b[0m, in \u001b[0;36mZipFile.__init__\u001b[0;34m(self, file, mode, compression, allowZip64, compresslevel, strict_timestamps)\u001b[0m\n\u001b[1;32m   1270\u001b[0m \u001b[38;5;28;01mtry\u001b[39;00m:\n\u001b[1;32m   1271\u001b[0m     \u001b[38;5;28;01mif\u001b[39;00m mode \u001b[38;5;241m==\u001b[39m \u001b[38;5;124m'\u001b[39m\u001b[38;5;124mr\u001b[39m\u001b[38;5;124m'\u001b[39m:\n\u001b[0;32m-> 1272\u001b[0m         \u001b[38;5;28;43mself\u001b[39;49m\u001b[38;5;241;43m.\u001b[39;49m\u001b[43m_RealGetContents\u001b[49m\u001b[43m(\u001b[49m\u001b[43m)\u001b[49m\n\u001b[1;32m   1273\u001b[0m     \u001b[38;5;28;01melif\u001b[39;00m mode \u001b[38;5;129;01min\u001b[39;00m (\u001b[38;5;124m'\u001b[39m\u001b[38;5;124mw\u001b[39m\u001b[38;5;124m'\u001b[39m, \u001b[38;5;124m'\u001b[39m\u001b[38;5;124mx\u001b[39m\u001b[38;5;124m'\u001b[39m):\n\u001b[1;32m   1274\u001b[0m         \u001b[38;5;66;03m# set the modified flag so central directory gets written\u001b[39;00m\n\u001b[1;32m   1275\u001b[0m         \u001b[38;5;66;03m# even if no files are added to the archive\u001b[39;00m\n\u001b[1;32m   1276\u001b[0m         \u001b[38;5;28mself\u001b[39m\u001b[38;5;241m.\u001b[39m_didModify \u001b[38;5;241m=\u001b[39m \u001b[38;5;28;01mTrue\u001b[39;00m\n",
      "File \u001b[0;32m~/anaconda3/envs/d2l-en/lib/python3.10/zipfile.py:1339\u001b[0m, in \u001b[0;36mZipFile._RealGetContents\u001b[0;34m(self)\u001b[0m\n\u001b[1;32m   1337\u001b[0m     \u001b[38;5;28;01mraise\u001b[39;00m BadZipFile(\u001b[38;5;124m\"\u001b[39m\u001b[38;5;124mFile is not a zip file\u001b[39m\u001b[38;5;124m\"\u001b[39m)\n\u001b[1;32m   1338\u001b[0m \u001b[38;5;28;01mif\u001b[39;00m \u001b[38;5;129;01mnot\u001b[39;00m endrec:\n\u001b[0;32m-> 1339\u001b[0m     \u001b[38;5;28;01mraise\u001b[39;00m BadZipFile(\u001b[38;5;124m\"\u001b[39m\u001b[38;5;124mFile is not a zip file\u001b[39m\u001b[38;5;124m\"\u001b[39m)\n\u001b[1;32m   1340\u001b[0m \u001b[38;5;28;01mif\u001b[39;00m \u001b[38;5;28mself\u001b[39m\u001b[38;5;241m.\u001b[39mdebug \u001b[38;5;241m>\u001b[39m \u001b[38;5;241m1\u001b[39m:\n\u001b[1;32m   1341\u001b[0m     \u001b[38;5;28mprint\u001b[39m(endrec)\n",
      "\u001b[0;31mBadZipFile\u001b[0m: File is not a zip file"
     ]
    }
   ],
   "source": [
    "batch_size, max_len = 512, 64\n",
    "train_iter, vocab = load_data_wiki(batch_size, max_len)\n",
    "\n",
    "for (tokens_X, segments_X, valid_lens_x, pred_positions_X, mlm_weights_X,\n",
    "     mlm_Y, nsp_y) in train_iter:\n",
    "    print(tokens_X.shape, segments_X.shape, valid_lens_x.shape,\n",
    "          pred_positions_X.shape, mlm_weights_X.shape, mlm_Y.shape,\n",
    "          nsp_y.shape)\n",
    "    break"
   ]
  },
  {
   "cell_type": "markdown",
   "id": "e5d9fd56",
   "metadata": {
    "origin_pos": 24
   },
   "source": [
    "最后，让我们来看看词汇量。\n",
    "即使过滤掉不常见的词，\n",
    "它仍然比PTB数据集的词汇量大两倍多。"
   ]
  },
  {
   "cell_type": "code",
   "execution_count": 11,
   "id": "76cf9172",
   "metadata": {
    "execution": {
     "iopub.execute_input": "2023-08-18T19:28:02.929142Z",
     "iopub.status.busy": "2023-08-18T19:28:02.928158Z",
     "iopub.status.idle": "2023-08-18T19:28:02.936806Z",
     "shell.execute_reply": "2023-08-18T19:28:02.935612Z"
    },
    "origin_pos": 25,
    "tab": [
     "pytorch"
    ]
   },
   "outputs": [
    {
     "data": {
      "text/plain": [
       "20256"
      ]
     },
     "execution_count": 11,
     "metadata": {},
     "output_type": "execute_result"
    }
   ],
   "source": [
    "len(vocab)"
   ]
  },
  {
   "cell_type": "markdown",
   "id": "3b598fc5",
   "metadata": {
    "origin_pos": 26
   },
   "source": [
    "## 摘要\n",
    "\n",
    "* 与PTB数据集相比，WikiText-2数据集保留了原始的标点符号、大小写和数字，并且规模超过两倍。\n",
    "* 我们可以任意访问从WikiText-2语料库中的一对句子生成的预训练（掩码语言建模和下一句预测）示例。\n",
    "\n",
    "## 练习\n",
    "\n",
    "1. 为了简化起见，这里仅使用句号作为分隔句子的唯一分隔符。尝试其他句子分割技术，例如spaCy和NLTK。以NLTK为例。首先需要安装NLTK：`pip install nltk`。在代码中，先`import nltk`。然后，下载Punkt句子分词器：`nltk.download('punkt')`。要分割如`sentences = 'This is great ! Why not ?'`这样的句子，调用`nltk.tokenize.sent_tokenize(sentences)`将返回一个包含两个句子字符串的列表：`['This is great !', 'Why not ?']`。\n",
    "1. 如果我们不过滤掉任何低频词，词汇表的大小是多少？"
   ]
  },
  {
   "cell_type": "markdown",
   "id": "aad35f4a",
   "metadata": {
    "origin_pos": 28,
    "tab": [
     "pytorch"
    ]
   },
   "source": [
    "[讨论](https://discuss.d2l.ai/t/1496)"
   ]
  }
 ],
 "metadata": {
  "kernelspec": {
   "display_name": "d2l-en",
   "language": "python",
   "name": "python3"
  },
  "language_info": {
   "codemirror_mode": {
    "name": "ipython",
    "version": 3
   },
   "file_extension": ".py",
   "mimetype": "text/x-python",
   "name": "python",
   "nbconvert_exporter": "python",
   "pygments_lexer": "ipython3",
   "version": "3.10.16"
  },
  "required_libs": []
 },
 "nbformat": 4,
 "nbformat_minor": 5
}