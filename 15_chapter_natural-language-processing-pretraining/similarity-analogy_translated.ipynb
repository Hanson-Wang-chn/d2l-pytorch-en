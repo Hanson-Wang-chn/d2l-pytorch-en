{
 "cells": [
  {
   "cell_type": "markdown",
   "id": "d9bc39df",
   "metadata": {
    "origin_pos": 0
   },
   "source": [
    "# 词语相似性和类比\n",
    ":label:`sec_synonyms`\n",
    "\n",
    "在 :numref:`sec_word2vec_pretraining` 中，  \n",
    "我们在一个小数据集上训练了一个 word2vec 模型，并将其应用于找到输入词的语义相似词。实际上，可以在大型语料库上预训练的词向量可以应用于下游的自然语言处理任务，这将在 :numref:`chap_nlp_app` 中介绍。为了直观地展示从大型语料库中预训练的词向量的语义，让我们将它们应用于词语相似性和类比任务。"
   ]
  },
  {
   "cell_type": "code",
   "execution_count": 1,
   "id": "7c36748f",
   "metadata": {
    "execution": {
     "iopub.execute_input": "2023-08-18T19:39:58.110484Z",
     "iopub.status.busy": "2023-08-18T19:39:58.109802Z",
     "iopub.status.idle": "2023-08-18T19:40:01.601183Z",
     "shell.execute_reply": "2023-08-18T19:40:01.599880Z"
    },
    "origin_pos": 2,
    "tab": [
     "pytorch"
    ]
   },
   "outputs": [],
   "source": [
    "import os\n",
    "import torch\n",
    "from torch import nn\n",
    "from d2l import torch as d2l"
   ]
  },
  {
   "cell_type": "markdown",
   "id": "58dea0ce",
   "metadata": {
    "origin_pos": 3
   },
   "source": [
    "## 加载预训练词向量\n",
    "\n",
    "下面列出了维度为50、100和300的预训练GloVe嵌入，可以从[GloVe网站](https://nlp.stanford.edu/projects/glove/)下载。\n",
    "预训练的fastText嵌入有多种语言版本。这里我们考虑一个英语版本（300维的\"wiki.en\"），可以从[fastText网站](https://fasttext.cc/)下载。"
   ]
  },
  {
   "cell_type": "code",
   "execution_count": 2,
   "id": "740b8826",
   "metadata": {
    "execution": {
     "iopub.execute_input": "2023-08-18T19:40:01.605791Z",
     "iopub.status.busy": "2023-08-18T19:40:01.605008Z",
     "iopub.status.idle": "2023-08-18T19:40:01.610925Z",
     "shell.execute_reply": "2023-08-18T19:40:01.609999Z"
    },
    "origin_pos": 4,
    "tab": [
     "pytorch"
    ]
   },
   "outputs": [],
   "source": [
    "#@save\n",
    "d2l.DATA_HUB['glove.6b.50d'] = (d2l.DATA_URL + 'glove.6B.50d.zip',\n",
    "                                '0b8703943ccdb6eb788e6f091b8946e82231bc4d')\n",
    "\n",
    "#@save\n",
    "d2l.DATA_HUB['glove.6b.100d'] = (d2l.DATA_URL + 'glove.6B.100d.zip',\n",
    "                                 'cd43bfb07e44e6f27cbcc7bc9ae3d80284fdaf5a')\n",
    "\n",
    "#@save\n",
    "d2l.DATA_HUB['glove.42b.300d'] = (d2l.DATA_URL + 'glove.42B.300d.zip',\n",
    "                                  'b5116e234e9eb9076672cfeabf5469f3eec904fa')\n",
    "\n",
    "#@save\n",
    "d2l.DATA_HUB['wiki.en'] = (d2l.DATA_URL + 'wiki.en.zip',\n",
    "                           'c1816da3821ae9f43899be655002f6c723e91b88')"
   ]
  },
  {
   "cell_type": "markdown",
   "id": "c6e66b37",
   "metadata": {
    "origin_pos": 5
   },
   "source": [
    "为了加载这些预训练的GloVe和fastText嵌入，我们定义了以下`TokenEmbedding`类。"
   ]
  },
  {
   "cell_type": "code",
   "execution_count": 3,
   "id": "45117bfd",
   "metadata": {
    "execution": {
     "iopub.execute_input": "2023-08-18T19:40:01.615965Z",
     "iopub.status.busy": "2023-08-18T19:40:01.614818Z",
     "iopub.status.idle": "2023-08-18T19:40:01.625449Z",
     "shell.execute_reply": "2023-08-18T19:40:01.624404Z"
    },
    "origin_pos": 6,
    "tab": [
     "pytorch"
    ]
   },
   "outputs": [],
   "source": [
    "#@save\n",
    "class TokenEmbedding:\n",
    "    \"\"\"Token Embedding.\"\"\"\n",
    "    def __init__(self, embedding_name):\n",
    "        self.idx_to_token, self.idx_to_vec = self._load_embedding(\n",
    "            embedding_name)\n",
    "        self.unknown_idx = 0\n",
    "        self.token_to_idx = {token: idx for idx, token in\n",
    "                             enumerate(self.idx_to_token)}\n",
    "\n",
    "    def _load_embedding(self, embedding_name):\n",
    "        idx_to_token, idx_to_vec = ['<unk>'], []\n",
    "        data_dir = d2l.download_extract(embedding_name)\n",
    "        # GloVe website: https://nlp.stanford.edu/projects/glove/\n",
    "        # fastText website: https://fasttext.cc/\n",
    "        with open(os.path.join(data_dir, 'vec.txt'), 'r') as f:\n",
    "            for line in f:\n",
    "                elems = line.rstrip().split(' ')\n",
    "                token, elems = elems[0], [float(elem) for elem in elems[1:]]\n",
    "                # Skip header information, such as the top row in fastText\n",
    "                if len(elems) > 1:\n",
    "                    idx_to_token.append(token)\n",
    "                    idx_to_vec.append(elems)\n",
    "        idx_to_vec = [[0] * len(idx_to_vec[0])] + idx_to_vec\n",
    "        return idx_to_token, torch.tensor(idx_to_vec)\n",
    "\n",
    "    def __getitem__(self, tokens):\n",
    "        indices = [self.token_to_idx.get(token, self.unknown_idx)\n",
    "                   for token in tokens]\n",
    "        vecs = self.idx_to_vec[torch.tensor(indices)]\n",
    "        return vecs\n",
    "\n",
    "    def __len__(self):\n",
    "        return len(self.idx_to_token)"
   ]
  },
  {
   "cell_type": "markdown",
   "id": "927d092b",
   "metadata": {
    "origin_pos": 7
   },
   "source": [
    "在下面的操作中，我们加载了\n",
    "50维的GloVe嵌入\n",
    "（在维基百科子集上预训练）。\n",
    "在创建`TokenEmbedding`实例时，\n",
    "如果指定的嵌入文件尚未下载，则需要下载。"
   ]
  },
  {
   "cell_type": "code",
   "execution_count": 4,
   "id": "4487556e",
   "metadata": {
    "execution": {
     "iopub.execute_input": "2023-08-18T19:40:01.630355Z",
     "iopub.status.busy": "2023-08-18T19:40:01.630031Z",
     "iopub.status.idle": "2023-08-18T19:40:18.097173Z",
     "shell.execute_reply": "2023-08-18T19:40:18.096139Z"
    },
    "origin_pos": 8,
    "tab": [
     "pytorch"
    ]
   },
   "outputs": [
    {
     "name": "stdout",
     "output_type": "stream",
     "text": [
      "Downloading ../data/glove.6B.50d.zip from http://d2l-data.s3-accelerate.amazonaws.com/glove.6B.50d.zip...\n"
     ]
    }
   ],
   "source": [
    "glove_6b50d = TokenEmbedding('glove.6b.50d')"
   ]
  },
  {
   "cell_type": "markdown",
   "id": "99425a33",
   "metadata": {
    "origin_pos": 9
   },
   "source": [
    "输出词汇量。词汇表包含400000个词（词元）和一个特殊的未知词元。"
   ]
  },
  {
   "cell_type": "code",
   "execution_count": 5,
   "id": "ff0fe3b2",
   "metadata": {
    "execution": {
     "iopub.execute_input": "2023-08-18T19:40:18.101681Z",
     "iopub.status.busy": "2023-08-18T19:40:18.101067Z",
     "iopub.status.idle": "2023-08-18T19:40:18.107937Z",
     "shell.execute_reply": "2023-08-18T19:40:18.107092Z"
    },
    "origin_pos": 10,
    "tab": [
     "pytorch"
    ]
   },
   "outputs": [
    {
     "data": {
      "text/plain": [
       "400001"
      ]
     },
     "execution_count": 5,
     "metadata": {},
     "output_type": "execute_result"
    }
   ],
   "source": [
    "len(glove_6b50d)"
   ]
  },
  {
   "cell_type": "markdown",
   "id": "c5839f20",
   "metadata": {
    "origin_pos": 11
   },
   "source": [
    "我们可以得到词汇表中单词的索引，反之亦然。"
   ]
  },
  {
   "cell_type": "code",
   "execution_count": null,
   "id": "bee6bad4",
   "metadata": {
    "execution": {
     "iopub.execute_input": "2023-08-18T19:40:18.111818Z",
     "iopub.status.busy": "2023-08-18T19:40:18.111076Z",
     "iopub.status.idle": "2023-08-18T19:40:18.116940Z",
     "shell.execute_reply": "2023-08-18T19:40:18.116073Z"
    },
    "origin_pos": 12,
    "tab": [
     "pytorch"
    ]
   },
   "outputs": [
    {
     "data": {
      "text/plain": [
       "(3367, 'beautiful')"
      ]
     },
     "execution_count": 6,
     "metadata": {},
     "output_type": "execute_result"
    }
   ],
   "source": [
    "glove_6b50d.token_to_idx['beautiful'], glove_6b50d.idx_to_token[3367]"
   ]
  },
  {
   "cell_type": "markdown",
   "id": "261f53bf",
   "metadata": {
    "origin_pos": 13
   },
   "source": [
    "## 应用预训练词向量\n",
    "\n",
    "使用加载的GloVe向量，\n",
    "我们将通过以下词语相似性和类比任务\n",
    "来展示它们的语义。\n",
    "\n",
    "\n",
    "### 词语相似性\n",
    "\n",
    "类似于 :numref:`subsec_apply-word-embed`，\n",
    "为了根据词向量之间的余弦相似度\n",
    "找到输入词的语义相似词，\n",
    "我们实现了以下 `knn`\n",
    "（$k$-最近邻）函数。"
   ]
  },
  {
   "cell_type": "code",
   "execution_count": 7,
   "id": "f9a7b445",
   "metadata": {
    "execution": {
     "iopub.execute_input": "2023-08-18T19:40:18.120761Z",
     "iopub.status.busy": "2023-08-18T19:40:18.120069Z",
     "iopub.status.idle": "2023-08-18T19:40:18.125858Z",
     "shell.execute_reply": "2023-08-18T19:40:18.124783Z"
    },
    "origin_pos": 15,
    "tab": [
     "pytorch"
    ]
   },
   "outputs": [],
   "source": [
    "def knn(W, x, k):\n",
    "    # Add 1e-9 for numerical stability\n",
    "    cos = torch.mv(W, x.reshape(-1,)) / (\n",
    "        torch.sqrt(torch.sum(W * W, axis=1) + 1e-9) *\n",
    "        torch.sqrt((x * x).sum()))\n",
    "    _, topk = torch.topk(cos, k=k)\n",
    "    return topk, [cos[int(i)] for i in topk]"
   ]
  },
  {
   "cell_type": "markdown",
   "id": "129060b5",
   "metadata": {
    "origin_pos": 16
   },
   "source": [
    "然后，我们\n",
    "使用从`TokenEmbedding`实例`embed`中的预训练词向量\n",
    "来搜索相似的词。"
   ]
  },
  {
   "cell_type": "code",
   "execution_count": 8,
   "id": "89565196",
   "metadata": {
    "execution": {
     "iopub.execute_input": "2023-08-18T19:40:18.129541Z",
     "iopub.status.busy": "2023-08-18T19:40:18.128977Z",
     "iopub.status.idle": "2023-08-18T19:40:18.134362Z",
     "shell.execute_reply": "2023-08-18T19:40:18.133532Z"
    },
    "origin_pos": 17,
    "tab": [
     "pytorch"
    ]
   },
   "outputs": [],
   "source": [
    "def get_similar_tokens(query_token, k, embed):\n",
    "    topk, cos = knn(embed.idx_to_vec, embed[[query_token]], k + 1)\n",
    "    for i, c in zip(topk[1:], cos[1:]):  # Exclude the input word\n",
    "        print(f'cosine sim={float(c):.3f}: {embed.idx_to_token[int(i)]}')"
   ]
  },
  {
   "cell_type": "markdown",
   "id": "87927a0a",
   "metadata": {
    "origin_pos": 18
   },
   "source": [
    "`glove_6b50d`的预训练词向量词汇包含400000个单词和一个特殊的未知标记。除了输入的单词和未知标记外，在这个词汇表中，让我们找到与单词\"chip\"语义最相似的三个单词。"
   ]
  },
  {
   "cell_type": "code",
   "execution_count": 9,
   "id": "f6006a6c",
   "metadata": {
    "execution": {
     "iopub.execute_input": "2023-08-18T19:40:18.137799Z",
     "iopub.status.busy": "2023-08-18T19:40:18.137504Z",
     "iopub.status.idle": "2023-08-18T19:40:18.192497Z",
     "shell.execute_reply": "2023-08-18T19:40:18.191240Z"
    },
    "origin_pos": 19,
    "tab": [
     "pytorch"
    ]
   },
   "outputs": [
    {
     "name": "stdout",
     "output_type": "stream",
     "text": [
      "cosine sim=0.856: chips\n",
      "cosine sim=0.749: intel\n",
      "cosine sim=0.749: electronics\n"
     ]
    }
   ],
   "source": [
    "get_similar_tokens('chip', 3, glove_6b50d)"
   ]
  },
  {
   "cell_type": "markdown",
   "id": "5da51ab7",
   "metadata": {
    "origin_pos": 20
   },
   "source": [
    "Below outputs similar words\n",
    "to \"baby\" and \"美丽\"."
   ]
  },
  {
   "cell_type": "code",
   "execution_count": 10,
   "id": "eefbb4fa",
   "metadata": {
    "execution": {
     "iopub.execute_input": "2023-08-18T19:40:18.196753Z",
     "iopub.status.busy": "2023-08-18T19:40:18.196073Z",
     "iopub.status.idle": "2023-08-18T19:40:18.222160Z",
     "shell.execute_reply": "2023-08-18T19:40:18.221182Z"
    },
    "origin_pos": 21,
    "tab": [
     "pytorch"
    ]
   },
   "outputs": [
    {
     "name": "stdout",
     "output_type": "stream",
     "text": [
      "cosine sim=0.839: babies\n",
      "cosine sim=0.800: boy\n",
      "cosine sim=0.792: girl\n"
     ]
    }
   ],
   "source": [
    "get_similar_tokens('baby', 3, glove_6b50d)"
   ]
  },
  {
   "cell_type": "code",
   "execution_count": 11,
   "id": "b69e3fad",
   "metadata": {
    "execution": {
     "iopub.execute_input": "2023-08-18T19:40:18.225735Z",
     "iopub.status.busy": "2023-08-18T19:40:18.225435Z",
     "iopub.status.idle": "2023-08-18T19:40:18.247512Z",
     "shell.execute_reply": "2023-08-18T19:40:18.246311Z"
    },
    "origin_pos": 22,
    "tab": [
     "pytorch"
    ]
   },
   "outputs": [
    {
     "name": "stdout",
     "output_type": "stream",
     "text": [
      "cosine sim=0.921: lovely\n",
      "cosine sim=0.893: gorgeous\n",
      "cosine sim=0.830: wonderful\n"
     ]
    }
   ],
   "source": [
    "get_similar_tokens('beautiful', 3, glove_6b50d)"
   ]
  },
  {
   "cell_type": "markdown",
   "id": "f50103d8",
   "metadata": {
    "origin_pos": 23
   },
   "source": [
    "### 词类比\n",
    "\n",
    "除了寻找相似的词，\n",
    "我们还可以将词向量\n",
    "应用于词类比任务。\n",
    "例如，\n",
    "“man”：“woman”::“son”：“daughter”\n",
    "是词类比的形式：\n",
    "“man”与“woman”的关系就像“son”与“daughter”的关系。\n",
    "具体来说，\n",
    "词类比完成任务\n",
    "可以定义为：\n",
    "对于词类比\n",
    "$a : b :: c : d$，给定前三个词 $a$、$b$ 和 $c$，找到 $d$。\n",
    "用 $\\textrm{vec}(w)$ 表示词 $w$ 的向量。\n",
    "为了完成类比，\n",
    "我们将找到其向量\n",
    "与 $\\textrm{vec}(c)+\\textrm{vec}(b)-\\textrm{vec}(a)$ 结果最相似的词。"
   ]
  },
  {
   "cell_type": "code",
   "execution_count": 12,
   "id": "b98949f5",
   "metadata": {
    "execution": {
     "iopub.execute_input": "2023-08-18T19:40:18.251109Z",
     "iopub.status.busy": "2023-08-18T19:40:18.250824Z",
     "iopub.status.idle": "2023-08-18T19:40:18.255960Z",
     "shell.execute_reply": "2023-08-18T19:40:18.254917Z"
    },
    "origin_pos": 24,
    "tab": [
     "pytorch"
    ]
   },
   "outputs": [],
   "source": [
    "def get_analogy(token_a, token_b, token_c, embed):\n",
    "    vecs = embed[[token_a, token_b, token_c]]\n",
    "    x = vecs[1] - vecs[0] + vecs[2]\n",
    "    topk, cos = knn(embed.idx_to_vec, x, 1)\n",
    "    return embed.idx_to_token[int(topk[0])]  # Remove unknown words"
   ]
  },
  {
   "cell_type": "markdown",
   "id": "14092363",
   "metadata": {
    "origin_pos": 25
   },
   "source": [
    "让我们使用加载的词向量来验证“男性-女性”类比。"
   ]
  },
  {
   "cell_type": "code",
   "execution_count": 13,
   "id": "60790fda",
   "metadata": {
    "execution": {
     "iopub.execute_input": "2023-08-18T19:40:18.259162Z",
     "iopub.status.busy": "2023-08-18T19:40:18.258879Z",
     "iopub.status.idle": "2023-08-18T19:40:18.283948Z",
     "shell.execute_reply": "2023-08-18T19:40:18.283021Z"
    },
    "origin_pos": 26,
    "tab": [
     "pytorch"
    ]
   },
   "outputs": [
    {
     "data": {
      "text/plain": [
       "'daughter'"
      ]
     },
     "execution_count": 13,
     "metadata": {},
     "output_type": "execute_result"
    }
   ],
   "source": [
    "get_analogy('man', 'woman', 'son', glove_6b50d)"
   ]
  },
  {
   "cell_type": "markdown",
   "id": "6cd090ad",
   "metadata": {
    "origin_pos": 27
   },
   "source": [
    "下面完成了一个“首都-国家”类比：\n",
    "“beijing”：“china”::“tokyo”：“japan”。\n",
    "这展示了预训练词向量中的语义。"
   ]
  },
  {
   "cell_type": "code",
   "execution_count": 14,
   "id": "fbec7b81",
   "metadata": {
    "execution": {
     "iopub.execute_input": "2023-08-18T19:40:18.288005Z",
     "iopub.status.busy": "2023-08-18T19:40:18.287287Z",
     "iopub.status.idle": "2023-08-18T19:40:18.314807Z",
     "shell.execute_reply": "2023-08-18T19:40:18.313940Z"
    },
    "origin_pos": 28,
    "tab": [
     "pytorch"
    ]
   },
   "outputs": [
    {
     "data": {
      "text/plain": [
       "'japan'"
      ]
     },
     "execution_count": 14,
     "metadata": {},
     "output_type": "execute_result"
    }
   ],
   "source": [
    "get_analogy('beijing', 'china', 'tokyo', glove_6b50d)"
   ]
  },
  {
   "cell_type": "markdown",
   "id": "46df1c76",
   "metadata": {
    "origin_pos": 29
   },
   "source": [
    "对于\n",
    "“形容词-最高级形容词”类比\n",
    "例如\n",
    "“bad”:“worst”::“big”:“biggest”，\n",
    "我们可以看到预训练的词向量\n",
    "可能捕捉到了语法信息。"
   ]
  },
  {
   "cell_type": "code",
   "execution_count": 15,
   "id": "f437bf1d",
   "metadata": {
    "execution": {
     "iopub.execute_input": "2023-08-18T19:40:18.318473Z",
     "iopub.status.busy": "2023-08-18T19:40:18.317911Z",
     "iopub.status.idle": "2023-08-18T19:40:18.340768Z",
     "shell.execute_reply": "2023-08-18T19:40:18.339656Z"
    },
    "origin_pos": 30,
    "tab": [
     "pytorch"
    ]
   },
   "outputs": [
    {
     "data": {
      "text/plain": [
       "'biggest'"
      ]
     },
     "execution_count": 15,
     "metadata": {},
     "output_type": "execute_result"
    }
   ],
   "source": [
    "get_analogy('bad', 'worst', 'big', glove_6b50d)"
   ]
  },
  {
   "cell_type": "markdown",
   "id": "43e21c82",
   "metadata": {
    "origin_pos": 31
   },
   "source": [
    "为了展示预训练词向量中捕捉到的过去时的概念，我们可以使用“现在时-过去时”的类比进行测试：“do”：“did” :: “go”：“went”。"
   ]
  },
  {
   "cell_type": "code",
   "execution_count": 16,
   "id": "2ef91645",
   "metadata": {
    "execution": {
     "iopub.execute_input": "2023-08-18T19:40:18.345390Z",
     "iopub.status.busy": "2023-08-18T19:40:18.344827Z",
     "iopub.status.idle": "2023-08-18T19:40:18.370172Z",
     "shell.execute_reply": "2023-08-18T19:40:18.369021Z"
    },
    "origin_pos": 32,
    "tab": [
     "pytorch"
    ]
   },
   "outputs": [
    {
     "data": {
      "text/plain": [
       "'went'"
      ]
     },
     "execution_count": 16,
     "metadata": {},
     "output_type": "execute_result"
    }
   ],
   "source": [
    "get_analogy('do', 'did', 'go', glove_6b50d)"
   ]
  },
  {
   "cell_type": "markdown",
   "id": "3c1996db",
   "metadata": {
    "origin_pos": 33
   },
   "source": [
    "## 摘要\n",
    "\n",
    "* 在实践中，可以在大型语料库上预训练的词向量可以应用于下游自然语言处理任务。\n",
    "* 预训练的词向量可以应用于词相似性和类比任务。\n",
    "\n",
    "## 练习\n",
    "\n",
    "1. 使用 `TokenEmbedding('wiki.en')` 测试 fastText 的结果。\n",
    "1. 当词汇量非常大时，如何更快地找到相似词或完成词类比？"
   ]
  },
  {
   "cell_type": "markdown",
   "id": "ef8be3e7",
   "metadata": {
    "origin_pos": 35,
    "tab": [
     "pytorch"
    ]
   },
   "source": [
    "[讨论](https://discuss.d2l.ai/t/1336)"
   ]
  }
 ],
 "metadata": {
  "kernelspec": {
   "display_name": "d2l-en",
   "language": "python",
   "name": "python3"
  },
  "language_info": {
   "codemirror_mode": {
    "name": "ipython",
    "version": 3
   },
   "file_extension": ".py",
   "mimetype": "text/x-python",
   "name": "python",
   "nbconvert_exporter": "python",
   "pygments_lexer": "ipython3",
   "version": "3.10.16"
  },
  "required_libs": []
 },
 "nbformat": 4,
 "nbformat_minor": 5
}