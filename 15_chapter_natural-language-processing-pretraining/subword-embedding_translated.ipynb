{
 "cells": [
  {
   "cell_type": "markdown",
   "id": "3cb7c246",
   "metadata": {
    "origin_pos": 0
   },
   "source": [
    "# 子词嵌入\n",
    ":label:`sec_fasttext`\n",
    "\n",
    "在英语中，“helps”、“helped”和“helping”都是同一个词“help”的屈折形式。“dog”和“dogs”之间的关系与“cat”和“cats”之间的关系相同，而“boy”和“boyfriend”之间的关系与“girl”和“girlfriend”之间的关系相同。在法语和西班牙语等其他语言中，许多动词有超过40种屈折形式，而在芬兰语中，一个名词可能有高达15种格。在语言学中，形态学研究词的构成和词的关系。然而，在word2vec和GloVe中都没有探索词的内部结构。\n",
    "\n",
    "## fastText模型\n",
    "\n",
    "回想一下单词在word2vec中的表示方式。在跳字模型和连续词袋模型中，同一单词的不同屈折形式直接由不同的向量表示，没有共享参数。为了利用形态信息，*fastText*模型提出了一种*子词嵌入*方法，其中子词是一个字符$n$-gram :cite:`Bojanowski.Grave.Joulin.ea.2017`。与其学习词级向量表示，不如将fastText视为子词级别的跳字模型，其中每个*中心词*由其子词向量之和表示。\n",
    "\n",
    "让我们以单词“where”为例说明如何在fastText中获取每个中心词的子词。首先，在单词的开头和结尾添加特殊字符“&lt;”和“&gt;”，以区分前缀和后缀与其他子词。然后，从单词中提取字符$n$-gram。例如，当$n=3$时，我们得到所有长度为3的子词：“&lt;wh”，“whe”，“her”，“ere”，“re&gt;”，以及特殊的子词“&lt;where&gt;”。\n",
    "\n",
    "在fastText中，对于任何单词$w$，记$\\mathcal{G}_w$为其所有长度在3到6之间及其特殊子词的并集。词汇表是所有单词的子词的并集。设$\\mathbf{z}_g$为词典中子词$g$的向量，则作为跳字模型中中心词的单词$w$的向量$\\mathbf{v}_w$是其子词向量的总和：\n",
    "\n",
    "$$\\mathbf{v}_w = \\sum_{g\\in\\mathcal{G}_w} \\mathbf{z}_g.$$\n",
    "\n",
    "fastText的其余部分与跳字模型相同。与跳字模型相比，fastText的词汇量更大，导致更多的模型参数。此外，为了计算一个单词的表示，必须将其所有子词向量相加，从而导致更高的计算复杂度。然而，由于具有相似结构的单词之间子词参数的共享，罕见词甚至词汇外的词在fastText中可能获得更好的向量表示。\n",
    "\n",
    "## 字节对编码\n",
    ":label:`subsec_Byte_Pair_Encoding`\n",
    "\n",
    "在fastText中，所有提取的子词都必须是指定的长度，如3到6，因此词汇量大小不能预先定义。为了在一个固定大小的词汇表中允许变长的子词，我们可以应用一种称为*字节对编码*（BPE）的压缩算法来提取子词 :cite:`Sennrich.Haddow.Birch.2015`。\n",
    "\n",
    "字节对编码通过对训练数据集进行统计分析来发现单词内的常见符号，如任意长度的连续字符。从长度为1的符号开始，字节对编码迭代地合并最频繁出现的一对连续符号以产生新的更长符号。注意，出于效率考虑，不考虑跨越词边界的配对。最终，我们可以使用这些符号作为子词来分割单词。字节对编码及其变体已被用于流行自然语言处理预训练模型的输入表示，如GPT-2 :cite:`Radford.Wu.Child.ea.2019`和RoBERTa :cite:`Liu.Ott.Goyal.ea.2019`。下面我们将说明字节对编码的工作原理。\n",
    "\n",
    "首先，我们将符号词汇初始化为所有英文小写字母、一个特殊的词尾符号`'_'`和一个特殊的未知符号`'[UNK]'`。"
   ]
  },
  {
   "cell_type": "code",
   "execution_count": 1,
   "id": "d4071347",
   "metadata": {
    "execution": {
     "iopub.execute_input": "2023-08-18T19:41:19.191865Z",
     "iopub.status.busy": "2023-08-18T19:41:19.191541Z",
     "iopub.status.idle": "2023-08-18T19:41:19.201332Z",
     "shell.execute_reply": "2023-08-18T19:41:19.200311Z"
    },
    "origin_pos": 1,
    "tab": [
     "pytorch"
    ]
   },
   "outputs": [],
   "source": [
    "import collections\n",
    "\n",
    "symbols = ['a', 'b', 'c', 'd', 'e', 'f', 'g', 'h', 'i', 'j', 'k', 'l', 'm',\n",
    "           'n', 'o', 'p', 'q', 'r', 's', 't', 'u', 'v', 'w', 'x', 'y', 'z',\n",
    "           '_', '[UNK]']"
   ]
  },
  {
   "cell_type": "markdown",
   "id": "532f3025",
   "metadata": {
    "origin_pos": 2
   },
   "source": [
    "由于我们不考虑跨越单词边界的符号对，所以我们只需要一个字典`raw_token_freqs`，它将单词映射到它们在数据集中的频率（出现次数）。请注意，每个单词后面都附加了特殊符号`'_'`，这样我们可以轻松地从输出符号序列（例如，“a_ tall er_ man”）中恢复单词序列（例如，“a taller man”）。由于我们从仅包含单个字符和特殊符号的词汇表开始合并过程，所以在字典`token_freqs`的每个单词内的每对连续字符之间插入空格。换句话说，空格是单词内符号之间的分隔符。"
   ]
  },
  {
   "cell_type": "code",
   "execution_count": 2,
   "id": "39297a70",
   "metadata": {
    "execution": {
     "iopub.execute_input": "2023-08-18T19:41:19.205282Z",
     "iopub.status.busy": "2023-08-18T19:41:19.204498Z",
     "iopub.status.idle": "2023-08-18T19:41:19.214291Z",
     "shell.execute_reply": "2023-08-18T19:41:19.213303Z"
    },
    "origin_pos": 3,
    "tab": [
     "pytorch"
    ]
   },
   "outputs": [
    {
     "data": {
      "text/plain": [
       "{'f a s t _': 4, 'f a s t e r _': 3, 't a l l _': 5, 't a l l e r _': 4}"
      ]
     },
     "execution_count": 2,
     "metadata": {},
     "output_type": "execute_result"
    }
   ],
   "source": [
    "raw_token_freqs = {'fast_': 4, 'faster_': 3, 'tall_': 5, 'taller_': 4}\n",
    "token_freqs = {}\n",
    "for token, freq in raw_token_freqs.items():\n",
    "    token_freqs[' '.join(list(token))] = raw_token_freqs[token]\n",
    "token_freqs"
   ]
  },
  {
   "cell_type": "markdown",
   "id": "7daa6f08",
   "metadata": {
    "origin_pos": 4
   },
   "source": [
    "我们定义了以下`get_max_freq_pair`函数，该函数返回输入字典`token_freqs`的键中的单词内出现频率最高的连续符号对。"
   ]
  },
  {
   "cell_type": "code",
   "execution_count": 3,
   "id": "b17d5ac7",
   "metadata": {
    "execution": {
     "iopub.execute_input": "2023-08-18T19:41:19.218343Z",
     "iopub.status.busy": "2023-08-18T19:41:19.217648Z",
     "iopub.status.idle": "2023-08-18T19:41:19.224315Z",
     "shell.execute_reply": "2023-08-18T19:41:19.223245Z"
    },
    "origin_pos": 5,
    "tab": [
     "pytorch"
    ]
   },
   "outputs": [],
   "source": [
    "def get_max_freq_pair(token_freqs):\n",
    "    pairs = collections.defaultdict(int)\n",
    "    for token, freq in token_freqs.items():\n",
    "        symbols = token.split()\n",
    "        for i in range(len(symbols) - 1):\n",
    "            # Key of `pairs` is a tuple of two consecutive symbols\n",
    "            pairs[symbols[i], symbols[i + 1]] += freq\n",
    "    return max(pairs, key=pairs.get)  # Key of `pairs` with the max value"
   ]
  },
  {
   "cell_type": "markdown",
   "id": "c6a407bb",
   "metadata": {
    "origin_pos": 6
   },
   "source": [
    "作为一种基于连续符号频率的贪婪方法，字节对编码将使用以下`merge_symbols`函数来合并最频繁出现的连续符号对以生成新的符号。"
   ]
  },
  {
   "cell_type": "code",
   "execution_count": 4,
   "id": "b2a9f61d",
   "metadata": {
    "execution": {
     "iopub.execute_input": "2023-08-18T19:41:19.228421Z",
     "iopub.status.busy": "2023-08-18T19:41:19.227879Z",
     "iopub.status.idle": "2023-08-18T19:41:19.232827Z",
     "shell.execute_reply": "2023-08-18T19:41:19.231885Z"
    },
    "origin_pos": 7,
    "tab": [
     "pytorch"
    ]
   },
   "outputs": [],
   "source": [
    "def merge_symbols(max_freq_pair, token_freqs, symbols):\n",
    "    symbols.append(''.join(max_freq_pair))\n",
    "    new_token_freqs = dict()\n",
    "    for token, freq in token_freqs.items():\n",
    "        new_token = token.replace(' '.join(max_freq_pair),\n",
    "                                  ''.join(max_freq_pair))\n",
    "        new_token_freqs[new_token] = token_freqs[token]\n",
    "    return new_token_freqs"
   ]
  },
  {
   "cell_type": "markdown",
   "id": "e766a10d",
   "metadata": {
    "origin_pos": 8
   },
   "source": [
    "现在我们迭代地对字典 `token_freqs` 的键执行字节对编码算法。在第一次迭代中，最频繁出现的连续符号对是 `'t'` 和 `'a'`，因此字节对编码将它们合并生成一个新的符号 `'ta'`。在第二次迭代中，字节对编码继续合并 `'ta'` 和 `'l'` 以产生另一个新符号 `'tal'`。"
   ]
  },
  {
   "cell_type": "code",
   "execution_count": 5,
   "id": "31c4b2e1",
   "metadata": {
    "execution": {
     "iopub.execute_input": "2023-08-18T19:41:19.236575Z",
     "iopub.status.busy": "2023-08-18T19:41:19.235901Z",
     "iopub.status.idle": "2023-08-18T19:41:19.245956Z",
     "shell.execute_reply": "2023-08-18T19:41:19.244817Z"
    },
    "origin_pos": 9,
    "tab": [
     "pytorch"
    ]
   },
   "outputs": [
    {
     "name": "stdout",
     "output_type": "stream",
     "text": [
      "merge #1: ('t', 'a')\n",
      "merge #2: ('ta', 'l')\n",
      "merge #3: ('tal', 'l')\n",
      "merge #4: ('f', 'a')\n",
      "merge #5: ('fa', 's')\n",
      "merge #6: ('fas', 't')\n",
      "merge #7: ('e', 'r')\n",
      "merge #8: ('er', '_')\n",
      "merge #9: ('tall', '_')\n",
      "merge #10: ('fast', '_')\n"
     ]
    }
   ],
   "source": [
    "num_merges = 10\n",
    "for i in range(num_merges):\n",
    "    max_freq_pair = get_max_freq_pair(token_freqs)\n",
    "    token_freqs = merge_symbols(max_freq_pair, token_freqs, symbols)\n",
    "    print(f'merge #{i + 1}:', max_freq_pair)"
   ]
  },
  {
   "cell_type": "markdown",
   "id": "33be8e54",
   "metadata": {
    "origin_pos": 10
   },
   "source": [
    "经过10次字节对编码迭代后，我们可以看到列表`symbols`现在包含了另外10个从其他符号迭代合并而来的新符号。"
   ]
  },
  {
   "cell_type": "code",
   "execution_count": 6,
   "id": "610ee437",
   "metadata": {
    "execution": {
     "iopub.execute_input": "2023-08-18T19:41:19.249671Z",
     "iopub.status.busy": "2023-08-18T19:41:19.249141Z",
     "iopub.status.idle": "2023-08-18T19:41:19.253740Z",
     "shell.execute_reply": "2023-08-18T19:41:19.252701Z"
    },
    "origin_pos": 11,
    "tab": [
     "pytorch"
    ]
   },
   "outputs": [
    {
     "name": "stdout",
     "output_type": "stream",
     "text": [
      "['a', 'b', 'c', 'd', 'e', 'f', 'g', 'h', 'i', 'j', 'k', 'l', 'm', 'n', 'o', 'p', 'q', 'r', 's', 't', 'u', 'v', 'w', 'x', 'y', 'z', '_', '[UNK]', 'ta', 'tal', 'tall', 'fa', 'fas', 'fast', 'er', 'er_', 'tall_', 'fast_']\n"
     ]
    }
   ],
   "source": [
    "print(symbols)"
   ]
  },
  {
   "cell_type": "markdown",
   "id": "26c88860",
   "metadata": {
    "origin_pos": 12
   },
   "source": [
    "对于字典 `raw_token_freqs` 中指定的同一数据集，数据集中的每个单词现在通过子词“fast_”、“fast”、“er_”、“tall_”和“tall”进行了分割，这是字节对编码算法的结果。例如，单词“faster_”和“taller_”分别被分割为“fast er_”和“tall er_”。"
   ]
  },
  {
   "cell_type": "code",
   "execution_count": 7,
   "id": "dede4390",
   "metadata": {
    "execution": {
     "iopub.execute_input": "2023-08-18T19:41:19.257572Z",
     "iopub.status.busy": "2023-08-18T19:41:19.256827Z",
     "iopub.status.idle": "2023-08-18T19:41:19.262643Z",
     "shell.execute_reply": "2023-08-18T19:41:19.261492Z"
    },
    "origin_pos": 13,
    "tab": [
     "pytorch"
    ]
   },
   "outputs": [
    {
     "name": "stdout",
     "output_type": "stream",
     "text": [
      "['fast_', 'fast er_', 'tall_', 'tall er_']\n"
     ]
    }
   ],
   "source": [
    "print(list(token_freqs.keys()))"
   ]
  },
  {
   "cell_type": "markdown",
   "id": "60999bd7",
   "metadata": {
    "origin_pos": 14
   },
   "source": [
    "请注意，字节对编码的结果取决于所使用的数据集。\n",
    "我们也可以使用从一个数据集中学到的子词\n",
    "来分割另一个数据集中的词。\n",
    "作为一种贪心方法，下面的 `segment_BPE` 函数试图将词分解成从输入参数 `symbols` 中最长可能的子词。"
   ]
  },
  {
   "cell_type": "code",
   "execution_count": 8,
   "id": "166b20c3",
   "metadata": {
    "execution": {
     "iopub.execute_input": "2023-08-18T19:41:19.266628Z",
     "iopub.status.busy": "2023-08-18T19:41:19.265711Z",
     "iopub.status.idle": "2023-08-18T19:41:19.272239Z",
     "shell.execute_reply": "2023-08-18T19:41:19.271387Z"
    },
    "origin_pos": 15,
    "tab": [
     "pytorch"
    ]
   },
   "outputs": [],
   "source": [
    "def segment_BPE(tokens, symbols):\n",
    "    outputs = []\n",
    "    for token in tokens:\n",
    "        start, end = 0, len(token)\n",
    "        cur_output = []\n",
    "        # Segment token with the longest possible subwords from symbols\n",
    "        while start < len(token) and start < end:\n",
    "            if token[start: end] in symbols:\n",
    "                cur_output.append(token[start: end])\n",
    "                start = end\n",
    "                end = len(token)\n",
    "            else:\n",
    "                end -= 1\n",
    "        if start < len(token):\n",
    "            cur_output.append('[UNK]')\n",
    "        outputs.append(' '.join(cur_output))\n",
    "    return outputs"
   ]
  },
  {
   "cell_type": "markdown",
   "id": "e91df344",
   "metadata": {
    "origin_pos": 16
   },
   "source": [
    "在下面的内容中，我们使用从上述数据集中学习到的`symbols`列表中的子词来分割代表另一个数据集的`tokens`。"
   ]
  },
  {
   "cell_type": "code",
   "execution_count": 9,
   "id": "e0dd3cac",
   "metadata": {
    "execution": {
     "iopub.execute_input": "2023-08-18T19:41:19.275736Z",
     "iopub.status.busy": "2023-08-18T19:41:19.275209Z",
     "iopub.status.idle": "2023-08-18T19:41:19.280859Z",
     "shell.execute_reply": "2023-08-18T19:41:19.279709Z"
    },
    "origin_pos": 17,
    "tab": [
     "pytorch"
    ]
   },
   "outputs": [
    {
     "name": "stdout",
     "output_type": "stream",
     "text": [
      "['tall e s t _', 'fa t t er_']\n"
     ]
    }
   ],
   "source": [
    "tokens = ['tallest_', 'fatter_']\n",
    "print(segment_BPE(tokens, symbols))"
   ]
  },
  {
   "cell_type": "markdown",
   "id": "5ee69b66",
   "metadata": {
    "origin_pos": 18
   },
   "source": [
    "## 摘要\n",
    "\n",
    "* fastText模型提出了一种子词嵌入方法。基于word2vec中的skip-gram模型，它将中心词表示为其子词向量的总和。\n",
    "* 字节对编码通过对训练数据集进行统计分析来发现单词内的常见符号。作为一种贪婪方法，字节对编码迭代地合并最频繁出现的连续符号对。\n",
    "* 子词嵌入可能提高稀有词和词典外词汇表示的质量。\n",
    "\n",
    "## 练习\n",
    "\n",
    "1. 例如，英语中大约有$3\\times 10^8$个可能的$6$-grams。当子词过多时会出现什么问题？如何解决这个问题？提示：参考fastText论文 :cite:`Bojanowski.Grave.Joulin.ea.2017`第3.2节末尾。\n",
    "1. 如何基于连续词袋模型设计一个子词嵌入模型？\n",
    "1. 当初始符号词汇大小为$n$时，为了得到大小为$m$的词汇表，需要多少次合并操作？\n",
    "1. 如何扩展字节对编码的思想以提取短语？"
   ]
  },
  {
   "cell_type": "markdown",
   "id": "8a195613",
   "metadata": {
    "origin_pos": 20,
    "tab": [
     "pytorch"
    ]
   },
   "source": [
    "[讨论](https://discuss.d2l.ai/t/4587)"
   ]
  }
 ],
 "metadata": {
  "kernelspec": {
   "display_name": "d2l-en",
   "language": "python",
   "name": "python3"
  },
  "language_info": {
   "codemirror_mode": {
    "name": "ipython",
    "version": 3
   },
   "file_extension": ".py",
   "mimetype": "text/x-python",
   "name": "python",
   "nbconvert_exporter": "python",
   "pygments_lexer": "ipython3",
   "version": "3.10.16"
  },
  "required_libs": []
 },
 "nbformat": 4,
 "nbformat_minor": 5
}