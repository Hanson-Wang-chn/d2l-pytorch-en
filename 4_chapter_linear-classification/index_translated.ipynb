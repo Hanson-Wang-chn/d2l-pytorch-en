{
 "cells": [
  {
   "cell_type": "markdown",
   "id": "f9f86ae9",
   "metadata": {
    "origin_pos": 0
   },
   "source": [
    "# 线性神经网络用于分类\n",
    ":label:`chap_classification`\n",
    "\n",
    "现在你已经掌握了所有的基本原理，你可以将学到的技能应用于更广泛的任务。即使我们转向分类，大部分流程仍然相同：加载数据、通过模型传递数据、生成输出、计算损失、对权重求梯度以及更新模型。然而，目标的具体形式、输出层的参数化和损失函数的选择将适应*分类*设置。\n",
    "\n",
    ":begin_tab:toc\n",
    " - [softmax-regression](softmax-reggression.ipynb)\n",
    " - [image-classification-dataset](image-classification-dataset.ipynb)\n",
    " - [classification](classification.ipynb)\n",
    " - [softmax-regression-scratch](softmax-regression-scratch.ipynb)\n",
    " - [softmax-regression-concise](softmax-regression-concise.ipynb)\n",
    " - [generalization-classification](generalization-classification.ipynb)\n",
    " - [environment-and-distribution-shift](environment-and-distribution-shift.ipynb)\n",
    ":end_tab:"
   ]
  }
 ],
 "metadata": {
  "language_info": {
   "name": "python"
  },
  "required_libs": []
 },
 "nbformat": 4,
 "nbformat_minor": 5
}