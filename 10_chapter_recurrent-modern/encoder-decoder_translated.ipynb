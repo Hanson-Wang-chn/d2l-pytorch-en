{
 "cells": [
  {
   "cell_type": "markdown",
   "id": "d3d85837",
   "metadata": {
    "origin_pos": 1
   },
   "source": [
    "# 编码器-解码器架构\n",
    ":label:`sec_encoder-decoder`\n",
    "\n",
    "在一般的序列到序列问题中，如机器翻译（:numref:`sec_machine_translation`），输入和输出的长度是可变且不对齐的。处理这类数据的标准方法是设计一个*编码器-解码器*架构（:numref:`fig_encoder_decoder`），该架构由两个主要组件组成：一个*编码器*，它接受可变长度的序列作为输入；以及一个*解码器*，它充当条件语言模型，接收编码后的输入和目标序列的左侧上下文，并预测目标序列中的下一个词元。\n",
    "\n",
    "![编码器-解码器架构。](../img/encoder-decoder.svg)\n",
    ":label:`fig_encoder_decoder`\n",
    "\n",
    "以从英语到法语的机器翻译为例。给定一个英语输入序列：“They”，“are”，“watching”，“。”，这个编码器-解码器架构首先将可变长度的输入编码成一个状态，然后对该状态进行解码，逐个词元生成翻译后的序列作为输出：“Ils”，“regardent”，“。”。由于编码器-解码器架构构成了后续章节中不同序列到序列模型的基础，本节将把这种架构转换为将在后面实现的接口。"
   ]
  },
  {
   "cell_type": "code",
   "execution_count": 1,
   "id": "f6ad17a2",
   "metadata": {
    "execution": {
     "iopub.execute_input": "2023-08-18T19:29:03.809994Z",
     "iopub.status.busy": "2023-08-18T19:29:03.809520Z",
     "iopub.status.idle": "2023-08-18T19:29:06.566331Z",
     "shell.execute_reply": "2023-08-18T19:29:06.565200Z"
    },
    "origin_pos": 3,
    "tab": [
     "pytorch"
    ]
   },
   "outputs": [],
   "source": [
    "from torch import nn\n",
    "from d2l import torch as d2l"
   ]
  },
  {
   "cell_type": "markdown",
   "id": "15bee8b2",
   "metadata": {
    "origin_pos": 6
   },
   "source": [
    "## (**Encoder**)\n",
    "\n",
    "在编码器接口中，\n",
    "我们只是指定了\n",
    "编码器接受变长序列作为输入 `X`。\n",
    "具体的实现将由任何继承这个基础 `Encoder` 类的模型提供。"
   ]
  },
  {
   "cell_type": "code",
   "execution_count": 2,
   "id": "bb981983",
   "metadata": {
    "execution": {
     "iopub.execute_input": "2023-08-18T19:29:06.571309Z",
     "iopub.status.busy": "2023-08-18T19:29:06.570433Z",
     "iopub.status.idle": "2023-08-18T19:29:06.577664Z",
     "shell.execute_reply": "2023-08-18T19:29:06.576626Z"
    },
    "origin_pos": 8,
    "tab": [
     "pytorch"
    ]
   },
   "outputs": [],
   "source": [
    "class Encoder(nn.Module):  #@save\n",
    "    \"\"\"The base encoder interface for the encoder--decoder architecture.\"\"\"\n",
    "    def __init__(self):\n",
    "        super().__init__()\n",
    "\n",
    "    # Later there can be additional arguments (e.g., length excluding padding)\n",
    "    def forward(self, X, *args):\n",
    "        raise NotImplementedError"
   ]
  },
  {
   "cell_type": "markdown",
   "id": "01ce15dd",
   "metadata": {
    "origin_pos": 11
   },
   "source": [
    "## [**解码器**]\n",
    "\n",
    "在以下解码器接口中，\n",
    "我们添加了一个额外的`init_state`方法\n",
    "将编码器输出（`enc_all_outputs`）\n",
    "转换为编码状态。\n",
    "请注意，这一步骤\n",
    "可能需要额外的输入，\n",
    "例如输入的有效长度，\n",
    "这一点在:numref:`sec_machine_translation`中已经解释过。\n",
    "为了逐个生成可变长度的序列，\n",
    "每次解码器可能会将一个输入\n",
    "（例如，上一个时间步生成的令牌）\n",
    "和编码状态\n",
    "映射到当前时间步的输出令牌。"
   ]
  },
  {
   "cell_type": "code",
   "execution_count": 3,
   "id": "7874f0f6",
   "metadata": {
    "execution": {
     "iopub.execute_input": "2023-08-18T19:29:06.581746Z",
     "iopub.status.busy": "2023-08-18T19:29:06.581040Z",
     "iopub.status.idle": "2023-08-18T19:29:06.587735Z",
     "shell.execute_reply": "2023-08-18T19:29:06.586641Z"
    },
    "origin_pos": 13,
    "tab": [
     "pytorch"
    ]
   },
   "outputs": [],
   "source": [
    "class Decoder(nn.Module):  #@save\n",
    "    \"\"\"The base decoder interface for the encoder--decoder architecture.\"\"\"\n",
    "    def __init__(self):\n",
    "        super().__init__()\n",
    "\n",
    "    # Later there can be additional arguments (e.g., length excluding padding)\n",
    "    def init_state(self, enc_all_outputs, *args):\n",
    "        raise NotImplementedError\n",
    "\n",
    "    def forward(self, X, state):\n",
    "        raise NotImplementedError"
   ]
  },
  {
   "cell_type": "markdown",
   "id": "ddb7e5a2",
   "metadata": {
    "origin_pos": 16
   },
   "source": [
    "## [**将编码器和解码器结合在一起**]\n",
    "\n",
    "在前向传播中，\n",
    "编码器的输出\n",
    "被用来生成编码状态，\n",
    "这个状态将进一步被\n",
    "解码器用作其输入之一。"
   ]
  },
  {
   "cell_type": "code",
   "execution_count": 4,
   "id": "a4223135",
   "metadata": {
    "execution": {
     "iopub.execute_input": "2023-08-18T19:29:06.591527Z",
     "iopub.status.busy": "2023-08-18T19:29:06.590891Z",
     "iopub.status.idle": "2023-08-18T19:29:06.597930Z",
     "shell.execute_reply": "2023-08-18T19:29:06.596992Z"
    },
    "origin_pos": 17,
    "tab": [
     "pytorch"
    ]
   },
   "outputs": [],
   "source": [
    "class EncoderDecoder(d2l.Classifier):  #@save\n",
    "    \"\"\"The base class for the encoder--decoder architecture.\"\"\"\n",
    "    def __init__(self, encoder, decoder):\n",
    "        super().__init__()\n",
    "        self.encoder = encoder\n",
    "        self.decoder = decoder\n",
    "\n",
    "    def forward(self, enc_X, dec_X, *args):\n",
    "        enc_all_outputs = self.encoder(enc_X, *args)\n",
    "        dec_state = self.decoder.init_state(enc_all_outputs, *args)\n",
    "        # Return decoder output only\n",
    "        return self.decoder(dec_X, dec_state)[0]"
   ]
  },
  {
   "cell_type": "markdown",
   "id": "b8f923bd",
   "metadata": {
    "origin_pos": 20
   },
   "source": [
    "在下一节中，\n",
    "我们将看到如何应用RNN来设计\n",
    "基于这种编码器-解码器架构的\n",
    "序列到序列模型。\n",
    "\n",
    "\n",
    "## 摘要\n",
    "\n",
    "编码器-解码器架构\n",
    "可以处理输入和输出\n",
    "都由可变长度序列组成的问题，\n",
    "因此适用于序列到序列的问题，\n",
    "如机器翻译。\n",
    "编码器将一个可变长度的序列作为输入\n",
    "并将其转换为具有固定形状的状态。\n",
    "解码器将具有固定形状的编码状态\n",
    "映射到一个可变长度的序列。\n",
    "\n",
    "\n",
    "## 练习\n",
    "\n",
    "1. 假设我们使用神经网络实现编码器-解码器架构。编码器和解码器必须是同一种类型的神经网络吗？\n",
    "1. 除了机器翻译，你还能想到另一种可以应用编码器-解码器架构的应用吗？"
   ]
  },
  {
   "cell_type": "markdown",
   "id": "ae1dc5a6",
   "metadata": {
    "origin_pos": 22,
    "tab": [
     "pytorch"
    ]
   },
   "source": [
    "[讨论](https://discuss.d2l.ai/t/1061)"
   ]
  }
 ],
 "metadata": {
  "language_info": {
   "name": "python"
  },
  "required_libs": []
 },
 "nbformat": 4,
 "nbformat_minor": 5
}