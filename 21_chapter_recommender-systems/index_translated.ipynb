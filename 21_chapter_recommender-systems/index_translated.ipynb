{
 "cells": [
  {
   "cell_type": "markdown",
   "id": "17e9d7e5",
   "metadata": {
    "origin_pos": 0
   },
   "source": [
    "# 推荐系统\n",
    ":label:`chap_recsys`\n",
    "\n",
    "\n",
    "**Shuai Zhang** (*Amazon*), **Aston Zhang** (*Amazon*), and **Yi Tay** (*Google*)\n",
    "\n",
    "推荐系统在业界被广泛使用，并且在我们的日常生活中无处不在。这些系统被应用于多个领域，例如在线购物网站（如amazon.com）、音乐/电影服务网站（如Netflix和Spotify）、移动应用商店（如iOS应用商店和谷歌Play）、在线广告等。\n",
    "\n",
    "推荐系统的主要目标是帮助用户发现相关的项目，比如要观看的电影、要阅读的文本或要购买的产品，从而创造愉快的用户体验。此外，推荐系统是在线零售商实施的最强大的机器学习系统之一，用以增加收入。推荐系统通过减少主动搜索的努力并为用户提供他们从未搜索过的优惠来替代搜索引擎。许多公司凭借更有效的推荐系统成功领先于竞争对手。因此，推荐系统不仅对我们日常生活至关重要，而且在某些行业中也是不可或缺的。\n",
    "\n",
    "在本章中，我们将涵盖推荐系统的原理和进展，以及探索一些常见的构建推荐系统的基本技术，包括可用的不同数据源及其实现。具体来说，你将学习如何预测用户可能会给一个潜在项目的评分，如何生成一个推荐项目列表，以及如何从丰富的特征中预测点击率。这些任务在实际应用中非常常见。通过学习本章，你将获得解决现实世界推荐问题的实际经验，不仅包括经典方法，还包括更先进的基于深度学习的模型。\n",
    "\n",
    ":begin_tab:toc\n",
    " - [recsys-intro](recsys-intro.ipynb)\n",
    " - [movielens](movielens.ipynb)\n",
    " - [mf](mf.ipynb)\n",
    " - [autorec](autorec.ipynb)\n",
    " - [ranking](ranking.ipynb)\n",
    " - [neumf](neumf.ipynb)\n",
    " - [seqrec](seqrec.ipynb)\n",
    " - [ctr](ctr.ipynb)\n",
    " - [fm](fm.ipynb)\n",
    " - [deepfm](deepfm.ipynb)\n",
    ":end_tab:"
   ]
  }
 ],
 "metadata": {
  "language_info": {
   "name": "python"
  },
  "required_libs": []
 },
 "nbformat": 4,
 "nbformat_minor": 5
}