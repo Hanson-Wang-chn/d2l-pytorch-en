{
 "cells": [
  {
   "cell_type": "markdown",
   "id": "34b05043",
   "metadata": {
    "origin_pos": 0
   },
   "source": [
    "# 多层感知机\n",
    ":label:`chap_perceptrons`\n",
    "\n",
    "在这一章中，我们将介绍你的第一个真正的*深度*网络。\n",
    "最简单的深度网络被称为*多层感知机*，\n",
    "它们由多层神经元组成，\n",
    "每一层都与下一层的神经元完全连接\n",
    "（从下一层接收输入）\n",
    "和上一层（它们反过来影响上一层）。\n",
    "虽然自动微分\n",
    "极大地简化了深度学习算法的实现，\n",
    "但我们将会深入探讨这些梯度\n",
    "是如何在深度网络中计算的。\n",
    "然后我们将\n",
    "准备好\n",
    "讨论数值稳定性和参数初始化的问题，\n",
    "这些问题对于成功训练深度网络至关重要。\n",
    "当我们训练这种高容量模型时，我们有过度拟合的风险。因此，我们将\n",
    "重新讨论深度网络的正则化和泛化问题。\n",
    "在整个过程中，我们的目标是让你不仅对概念有牢固的掌握，而且对使用深度网络的实践也有牢固的掌握。\n",
    "在本章的最后，我们将把迄今为止所介绍的内容应用到一个实际案例：房价预测。我们将把与模型的计算性能、可扩展性和效率相关的问题留到后续章节中讨论。\n",
    "\n",
    ":begin_tab:toc\n",
    " - [mlp](mlp.ipynb)\n",
    " - [mlp-implementation](mlp-implementation.ipynb)\n",
    " - [backprop](backprop.ipynb)\n",
    " - [numerical-stability-and-init](numerical-stability-and-init.ipynb)\n",
    " - [generalization-deep](generalization-deep.ipynb)\n",
    " - [dropout](dropout.ipynb)\n",
    " - [kaggle-house-price](kaggle-house-price.ipynb)\n",
    ":end_tab:"
   ]
  }
 ],
 "metadata": {
  "language_info": {
   "name": "python"
  },
  "required_libs": []
 },
 "nbformat": 4,
 "nbformat_minor": 5
}