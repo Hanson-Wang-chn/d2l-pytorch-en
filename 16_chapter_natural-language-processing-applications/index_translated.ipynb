{
 "cells": [
  {
   "cell_type": "markdown",
   "id": "a9febc82",
   "metadata": {
    "origin_pos": 0
   },
   "source": [
    "# 自然语言处理：应用\n",
    ":label:`chap_nlp_app`\n",
    "\n",
    "我们已经了解了如何在文本序列中表示标记以及如何在 :numref:`chap_nlp_pretrain` 中训练它们的表示。这种预训练的文本表示可以被输入到各种模型中，用于不同的下游自然语言处理任务。\n",
    "\n",
    "实际上，\n",
    "前面的章节已经讨论了一些\n",
    "*没有预训练* 的自然语言处理应用，\n",
    "只是为了说明深度学习架构。\n",
    "例如，在 :numref:`chap_rnn` 中，\n",
    "我们依赖 RNN 设计了生成类似小说文本的语言模型。\n",
    "在 :numref:`chap_modern_rnn` 和 :numref:`chap_attention-and-transformers` 中，\n",
    "我们也基于 RNN 和注意力机制设计了机器翻译模型。\n",
    "\n",
    "然而，本书并不打算全面覆盖所有这些应用。\n",
    "相反，\n",
    "我们的重点是 *如何将（深度）语言表示学习应用于解决自然语言处理问题*。\n",
    "给定预训练的文本表示，\n",
    "本章将探讨两个\n",
    "流行且具有代表性的\n",
    "下游自然语言处理任务：\n",
    "情感分析和自然语言推理，\n",
    "它们分别分析单个文本和文本对之间的关系。\n",
    "\n",
    "![预训练的文本表示可以输入到各种深度学习架构中，用于不同的下游自然语言处理应用。本章重点介绍如何为不同的下游自然语言处理应用设计模型。](../img/nlp-map-app.svg)\n",
    ":label:`fig_nlp-map-app`\n",
    "\n",
    "如 :numref:`fig_nlp-map-app` 所示，\n",
    "本章重点描述了使用不同类型的深度学习架构（如 MLP、CNN、RNN 和注意力）设计自然语言处理模型的基本思路。\n",
    "虽然可以将任何预训练的文本表示与 :numref:`fig_nlp-map-app` 中任一应用的任何架构结合起来，\n",
    "但我们选择了一些有代表性的组合。\n",
    "具体来说，我们将探索基于 RNN 和 CNN 的流行架构用于情感分析。\n",
    "对于自然语言推理，我们选择注意力和 MLP 来演示如何分析文本对。\n",
    "最后，我们介绍了如何微调预训练的 BERT 模型\n",
    "以用于广泛的自然语言处理应用，\n",
    "例如在序列级别（单文本分类和文本对分类）\n",
    "和标记级别（文本标注和问答）。\n",
    "作为一个具体的实证案例，\n",
    "我们将微调 BERT 用于自然语言推理。\n",
    "\n",
    "正如我们在 :numref:`sec_bert` 中介绍的那样，\n",
    "BERT 对于广泛的自然语言处理应用只需要最小的架构更改。\n",
    "然而，这种好处是以微调大量 BERT 参数用于下游应用为代价的。\n",
    "当空间或时间有限时，\n",
    "基于 MLP、CNN、RNN 和注意力的那些精心设计的模型更为可行。\n",
    "接下来，我们从情感分析应用开始\n",
    "并分别展示基于 RNN 和 CNN 的模型设计。\n",
    "\n",
    ":begin_tab:toc\n",
    " - [sentiment-analysis-and-dataset](sentiment-analysis-and-dataset.ipynb)\n",
    " - [sentiment-analysis-rnn](sentiment-analysis-rnn.ipynb)\n",
    " - [sentiment-analysis-cnn](sentiment-analysis-cnn.ipynb)\n",
    " - [natural-language-inference-and-dataset](natural-language-inference-and-dataset.ipynb)\n",
    " - [natural-language-inference-attention](natural-language-inference-attention.ipynb)\n",
    " - [finetuning-bert](finetuning-bert.ipynb)\n",
    " - [natural-language-inference-bert](natural-language-inference-bert.ipynb)\n",
    ":end_tab:"
   ]
  }
 ],
 "metadata": {
  "language_info": {
   "name": "python"
  },
  "required_libs": []
 },
 "nbformat": 4,
 "nbformat_minor": 5
}