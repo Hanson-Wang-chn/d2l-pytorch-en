{
 "cells": [
  {
   "cell_type": "markdown",
   "id": "dc0e65bf",
   "metadata": {
    "origin_pos": 1
   },
   "source": [
    "# 参数初始化\n",
    "\n",
    "现在我们已经知道如何访问参数，\n",
    "让我们来看看如何正确地初始化它们。\n",
    "我们在:numref:`sec_numerical_stability`中讨论了正确初始化的必要性。\n",
    "深度学习框架为其层提供了默认的随机初始化。\n",
    "然而，我们经常希望根据各种其他协议来初始化我们的权重。\n",
    "该框架提供了最常用的协议，并且也允许创建自定义初始化器。"
   ]
  },
  {
   "cell_type": "code",
   "execution_count": 1,
   "id": "57c14f80",
   "metadata": {
    "execution": {
     "iopub.execute_input": "2023-08-18T19:43:09.192619Z",
     "iopub.status.busy": "2023-08-18T19:43:09.192194Z",
     "iopub.status.idle": "2023-08-18T19:43:11.079730Z",
     "shell.execute_reply": "2023-08-18T19:43:11.078721Z"
    },
    "origin_pos": 3,
    "tab": [
     "pytorch"
    ]
   },
   "outputs": [],
   "source": [
    "import torch\n",
    "from torch import nn"
   ]
  },
  {
   "cell_type": "markdown",
   "id": "315e66e5",
   "metadata": {
    "origin_pos": 7,
    "tab": [
     "pytorch"
    ]
   },
   "source": [
    "默认情况下，PyTorch 通过从根据输入和输出维度计算的范围内均匀抽取来初始化权重和偏置矩阵。\n",
    "PyTorch 的 `nn.init` 模块提供了多种预设的初始化方法。"
   ]
  },
  {
   "cell_type": "code",
   "execution_count": 2,
   "id": "d2a5e8cb",
   "metadata": {
    "execution": {
     "iopub.execute_input": "2023-08-18T19:43:11.084761Z",
     "iopub.status.busy": "2023-08-18T19:43:11.083735Z",
     "iopub.status.idle": "2023-08-18T19:43:11.122261Z",
     "shell.execute_reply": "2023-08-18T19:43:11.121411Z"
    },
    "origin_pos": 11,
    "tab": [
     "pytorch"
    ]
   },
   "outputs": [
    {
     "data": {
      "text/plain": [
       "torch.Size([2, 1])"
      ]
     },
     "execution_count": 2,
     "metadata": {},
     "output_type": "execute_result"
    }
   ],
   "source": [
    "net = nn.Sequential(nn.LazyLinear(8), nn.ReLU(), nn.LazyLinear(1))\n",
    "X = torch.rand(size=(2, 4))\n",
    "net(X).shape"
   ]
  },
  {
   "cell_type": "markdown",
   "id": "18a9c8b0",
   "metadata": {
    "origin_pos": 14
   },
   "source": [
    "## [**内置初始化**]\n",
    "\n",
    "让我们首先调用内置的初始化器。\n",
    "下面的代码将所有权重参数\n",
    "初始化为标准差为0.01的高斯随机变量，\n",
    "而偏置参数则被清零。"
   ]
  },
  {
   "cell_type": "code",
   "execution_count": 3,
   "id": "6059e0fb",
   "metadata": {
    "execution": {
     "iopub.execute_input": "2023-08-18T19:43:11.127859Z",
     "iopub.status.busy": "2023-08-18T19:43:11.127125Z",
     "iopub.status.idle": "2023-08-18T19:43:11.135507Z",
     "shell.execute_reply": "2023-08-18T19:43:11.134596Z"
    },
    "origin_pos": 16,
    "tab": [
     "pytorch"
    ]
   },
   "outputs": [
    {
     "data": {
      "text/plain": [
       "(tensor([-0.0128, -0.0103,  0.0103,  0.0009]), tensor(0.))"
      ]
     },
     "execution_count": 3,
     "metadata": {},
     "output_type": "execute_result"
    }
   ],
   "source": [
    "def init_normal(module):\n",
    "    if type(module) == nn.Linear:\n",
    "        nn.init.normal_(module.weight, mean=0, std=0.01)\n",
    "        nn.init.zeros_(module.bias)\n",
    "\n",
    "net.apply(init_normal)\n",
    "net[0].weight.data[0], net[0].bias.data[0]"
   ]
  },
  {
   "cell_type": "markdown",
   "id": "cb3e91fa",
   "metadata": {
    "origin_pos": 19
   },
   "source": [
    "我们也可以将所有参数初始化为一个给定的常数值（比如，1）。"
   ]
  },
  {
   "cell_type": "code",
   "execution_count": 4,
   "id": "d2007d64",
   "metadata": {
    "execution": {
     "iopub.execute_input": "2023-08-18T19:43:11.138851Z",
     "iopub.status.busy": "2023-08-18T19:43:11.138302Z",
     "iopub.status.idle": "2023-08-18T19:43:11.145695Z",
     "shell.execute_reply": "2023-08-18T19:43:11.144862Z"
    },
    "origin_pos": 21,
    "tab": [
     "pytorch"
    ]
   },
   "outputs": [
    {
     "data": {
      "text/plain": [
       "(tensor([1., 1., 1., 1.]), tensor(0.))"
      ]
     },
     "execution_count": 4,
     "metadata": {},
     "output_type": "execute_result"
    }
   ],
   "source": [
    "def init_constant(module):\n",
    "    if type(module) == nn.Linear:\n",
    "        nn.init.constant_(module.weight, 1)\n",
    "        nn.init.zeros_(module.bias)\n",
    "\n",
    "net.apply(init_constant)\n",
    "net[0].weight.data[0], net[0].bias.data[0]"
   ]
  },
  {
   "cell_type": "markdown",
   "id": "130ca37e",
   "metadata": {
    "origin_pos": 24
   },
   "source": [
    "[**我们也可以为某些块应用不同的初始化器。**]\n",
    "例如，下面我们将第一层\n",
    "用Xavier初始化器进行初始化\n",
    "并将第二层\n",
    "初始化为常数值42。"
   ]
  },
  {
   "cell_type": "code",
   "execution_count": 5,
   "id": "4734e6eb",
   "metadata": {
    "execution": {
     "iopub.execute_input": "2023-08-18T19:43:11.149040Z",
     "iopub.status.busy": "2023-08-18T19:43:11.148497Z",
     "iopub.status.idle": "2023-08-18T19:43:11.155752Z",
     "shell.execute_reply": "2023-08-18T19:43:11.154840Z"
    },
    "origin_pos": 26,
    "tab": [
     "pytorch"
    ]
   },
   "outputs": [
    {
     "name": "stdout",
     "output_type": "stream",
     "text": [
      "tensor([ 0.5314, -0.5090, -0.6871,  0.4311])\n",
      "tensor([[42., 42., 42., 42., 42., 42., 42., 42.]])\n"
     ]
    }
   ],
   "source": [
    "def init_xavier(module):\n",
    "    if type(module) == nn.Linear:\n",
    "        nn.init.xavier_uniform_(module.weight)\n",
    "\n",
    "def init_42(module):\n",
    "    if type(module) == nn.Linear:\n",
    "        nn.init.constant_(module.weight, 42)\n",
    "\n",
    "net[0].apply(init_xavier)\n",
    "net[2].apply(init_42)\n",
    "print(net[0].weight.data[0])\n",
    "print(net[2].weight.data)"
   ]
  },
  {
   "cell_type": "markdown",
   "id": "164af268",
   "metadata": {
    "origin_pos": 29
   },
   "source": [
    "### [**自定义初始化**]\n",
    "\n",
    "有时，我们需要的初始化方法\n",
    "并没有被深度学习框架提供。\n",
    "在下面的例子中，我们为任何权重参数 $w$ 定义了一个初始化器\n",
    "使用以下奇怪的分布：\n",
    "\n",
    "$$\n",
    "\\begin{aligned}\n",
    "    w \\sim \\begin{cases}\n",
    "        U(5, 10) & \\textrm{ 以概率 } \\frac{1}{4} \\\\\n",
    "            0    & \\textrm{ 以概率 } \\frac{1}{2} \\\\\n",
    "        U(-10, -5) & \\textrm{ 以概率 } \\frac{1}{4}\n",
    "    \\end{cases}\n",
    "\\end{aligned}\n",
    "$$"
   ]
  },
  {
   "cell_type": "markdown",
   "id": "ac721402",
   "metadata": {
    "origin_pos": 31,
    "tab": [
     "pytorch"
    ]
   },
   "source": [
    "同样，我们实现一个`my_init`函数来应用于`net`。"
   ]
  },
  {
   "cell_type": "code",
   "execution_count": 6,
   "id": "334b9bed",
   "metadata": {
    "execution": {
     "iopub.execute_input": "2023-08-18T19:43:11.159032Z",
     "iopub.status.busy": "2023-08-18T19:43:11.158501Z",
     "iopub.status.idle": "2023-08-18T19:43:11.166911Z",
     "shell.execute_reply": "2023-08-18T19:43:11.166067Z"
    },
    "origin_pos": 35,
    "tab": [
     "pytorch"
    ]
   },
   "outputs": [
    {
     "name": "stdout",
     "output_type": "stream",
     "text": [
      "Init weight torch.Size([8, 4])\n",
      "Init weight torch.Size([1, 8])\n"
     ]
    },
    {
     "data": {
      "text/plain": [
       "tensor([[-0.0000,  6.7383,  7.3089,  0.0000],\n",
       "        [ 9.5873,  0.0000, -9.2901, -0.0000]], grad_fn=<SliceBackward0>)"
      ]
     },
     "execution_count": 6,
     "metadata": {},
     "output_type": "execute_result"
    }
   ],
   "source": [
    "def my_init(module):\n",
    "    if type(module) == nn.Linear:\n",
    "        print(\"Init\", *[(name, param.shape)\n",
    "                        for name, param in module.named_parameters()][0])\n",
    "        nn.init.uniform_(module.weight, -10, 10)\n",
    "        module.weight.data *= module.weight.data.abs() >= 5\n",
    "\n",
    "net.apply(my_init)\n",
    "net[0].weight[:2]"
   ]
  },
  {
   "cell_type": "markdown",
   "id": "9f4c13b0",
   "metadata": {
    "origin_pos": 38,
    "tab": [
     "pytorch"
    ]
   },
   "source": [
    "请注意，我们始终可以选择直接设置参数。"
   ]
  },
  {
   "cell_type": "code",
   "execution_count": 7,
   "id": "e38feecc",
   "metadata": {
    "execution": {
     "iopub.execute_input": "2023-08-18T19:43:11.170212Z",
     "iopub.status.busy": "2023-08-18T19:43:11.169683Z",
     "iopub.status.idle": "2023-08-18T19:43:11.176291Z",
     "shell.execute_reply": "2023-08-18T19:43:11.175385Z"
    },
    "origin_pos": 41,
    "tab": [
     "pytorch"
    ]
   },
   "outputs": [
    {
     "data": {
      "text/plain": [
       "tensor([42.0000,  7.7383,  8.3089,  1.0000])"
      ]
     },
     "execution_count": 7,
     "metadata": {},
     "output_type": "execute_result"
    }
   ],
   "source": [
    "net[0].weight.data[:] += 1\n",
    "net[0].weight.data[0, 0] = 42\n",
    "net[0].weight.data[0]"
   ]
  },
  {
   "cell_type": "markdown",
   "id": "e812c7c4",
   "metadata": {
    "origin_pos": 43
   },
   "source": [
    "## 摘要\n",
    "\n",
    "我们可以使用内置和自定义初始化器来初始化参数。\n",
    "\n",
    "## 练习\n",
    "\n",
    "查阅在线文档以了解更多的内置初始化器。"
   ]
  },
  {
   "cell_type": "markdown",
   "id": "480a164a",
   "metadata": {
    "origin_pos": 45,
    "tab": [
     "pytorch"
    ]
   },
   "source": [
    "[讨论](https://discuss.d2l.ai/t/8090)"
   ]
  }
 ],
 "metadata": {
  "kernelspec": {
   "display_name": "d2l-en",
   "language": "python",
   "name": "python3"
  },
  "language_info": {
   "codemirror_mode": {
    "name": "ipython",
    "version": 3
   },
   "file_extension": ".py",
   "mimetype": "text/x-python",
   "name": "python",
   "nbconvert_exporter": "python",
   "pygments_lexer": "ipython3",
   "version": "3.10.16"
  },
  "required_libs": []
 },
 "nbformat": 4,
 "nbformat_minor": 5
}
