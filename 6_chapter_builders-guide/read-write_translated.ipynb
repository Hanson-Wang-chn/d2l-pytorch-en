{
 "cells": [
  {
   "cell_type": "markdown",
   "id": "8b4cadb2",
   "metadata": {
    "origin_pos": 1
   },
   "source": [
    "# 文件输入/输出\n",
    "\n",
    "到目前为止，我们已经讨论了如何处理数据以及如何构建、训练和测试深度学习模型。然而，在某个时刻，我们可能会对学到的模型感到满意，并希望将结果保存下来以供日后在各种场景中使用（甚至可能是在部署中进行预测）。此外，在运行长时间的训练过程时，最佳做法是定期保存中间结果（检查点），以确保如果我们不小心绊到了服务器的电源线，不会丢失几天的计算成果。因此，现在是时候学习如何加载和存储单个权重向量和整个模型了。本节将解决这两个问题。"
   ]
  },
  {
   "cell_type": "code",
   "execution_count": 1,
   "id": "3dff9f92",
   "metadata": {
    "execution": {
     "iopub.execute_input": "2023-08-18T20:14:02.401475Z",
     "iopub.status.busy": "2023-08-18T20:14:02.401201Z",
     "iopub.status.idle": "2023-08-18T20:14:04.212167Z",
     "shell.execute_reply": "2023-08-18T20:14:04.211057Z"
    },
    "origin_pos": 3,
    "tab": [
     "pytorch"
    ]
   },
   "outputs": [],
   "source": [
    "import torch\n",
    "from torch import nn\n",
    "from torch.nn import functional as F"
   ]
  },
  {
   "cell_type": "markdown",
   "id": "71d2d6c9",
   "metadata": {
    "origin_pos": 6
   },
   "source": [
    "## （加载和保存张量）\n",
    "\n",
    "对于单个张量，我们可以直接\n",
    "调用 `load` 和 `save` 函数\n",
    "分别进行读取和写入。\n",
    "这两个函数都要求我们提供一个名称，\n",
    "并且 `save` 还需要输入要保存的变量。"
   ]
  },
  {
   "cell_type": "code",
   "execution_count": 2,
   "id": "41c45edb",
   "metadata": {
    "execution": {
     "iopub.execute_input": "2023-08-18T20:14:04.216976Z",
     "iopub.status.busy": "2023-08-18T20:14:04.216107Z",
     "iopub.status.idle": "2023-08-18T20:14:04.247988Z",
     "shell.execute_reply": "2023-08-18T20:14:04.246686Z"
    },
    "origin_pos": 8,
    "tab": [
     "pytorch"
    ]
   },
   "outputs": [],
   "source": [
    "x = torch.arange(4)\n",
    "torch.save(x, 'x-file')"
   ]
  },
  {
   "cell_type": "markdown",
   "id": "e4d4cdfe",
   "metadata": {
    "origin_pos": 11
   },
   "source": [
    "我们现在可以将存储在文件中的数据读回内存。"
   ]
  },
  {
   "cell_type": "code",
   "execution_count": 3,
   "id": "5cb11ed0",
   "metadata": {
    "execution": {
     "iopub.execute_input": "2023-08-18T20:14:04.253634Z",
     "iopub.status.busy": "2023-08-18T20:14:04.253018Z",
     "iopub.status.idle": "2023-08-18T20:14:04.262485Z",
     "shell.execute_reply": "2023-08-18T20:14:04.261617Z"
    },
    "origin_pos": 13,
    "tab": [
     "pytorch"
    ]
   },
   "outputs": [
    {
     "data": {
      "text/plain": [
       "tensor([0, 1, 2, 3])"
      ]
     },
     "execution_count": 3,
     "metadata": {},
     "output_type": "execute_result"
    }
   ],
   "source": [
    "x2 = torch.load('x-file')\n",
    "x2"
   ]
  },
  {
   "cell_type": "markdown",
   "id": "431f40d8",
   "metadata": {
    "origin_pos": 16
   },
   "source": [
    "我们可以[**存储一个张量列表并将它们读回内存。**]"
   ]
  },
  {
   "cell_type": "code",
   "execution_count": 4,
   "id": "86dba6ad",
   "metadata": {
    "execution": {
     "iopub.execute_input": "2023-08-18T20:14:04.267689Z",
     "iopub.status.busy": "2023-08-18T20:14:04.267013Z",
     "iopub.status.idle": "2023-08-18T20:14:04.275474Z",
     "shell.execute_reply": "2023-08-18T20:14:04.274471Z"
    },
    "origin_pos": 18,
    "tab": [
     "pytorch"
    ]
   },
   "outputs": [
    {
     "data": {
      "text/plain": [
       "(tensor([0, 1, 2, 3]), tensor([0., 0., 0., 0.]))"
      ]
     },
     "execution_count": 4,
     "metadata": {},
     "output_type": "execute_result"
    }
   ],
   "source": [
    "y = torch.zeros(4)\n",
    "torch.save([x, y],'x-files')\n",
    "x2, y2 = torch.load('x-files')\n",
    "(x2, y2)"
   ]
  },
  {
   "cell_type": "markdown",
   "id": "7e03e08f",
   "metadata": {
    "origin_pos": 21
   },
   "source": [
    "我们甚至可以[**编写和读取一个将字符串映射到张量的字典。**]\n",
    "当我们想要读取或写入模型中的所有权重时，这非常方便。"
   ]
  },
  {
   "cell_type": "code",
   "execution_count": 5,
   "id": "1b8f14c8",
   "metadata": {
    "execution": {
     "iopub.execute_input": "2023-08-18T20:14:04.279967Z",
     "iopub.status.busy": "2023-08-18T20:14:04.279484Z",
     "iopub.status.idle": "2023-08-18T20:14:04.286799Z",
     "shell.execute_reply": "2023-08-18T20:14:04.286045Z"
    },
    "origin_pos": 23,
    "tab": [
     "pytorch"
    ]
   },
   "outputs": [
    {
     "data": {
      "text/plain": [
       "{'x': tensor([0, 1, 2, 3]), 'y': tensor([0., 0., 0., 0.])}"
      ]
     },
     "execution_count": 5,
     "metadata": {},
     "output_type": "execute_result"
    }
   ],
   "source": [
    "mydict = {'x': x, 'y': y}\n",
    "torch.save(mydict, 'mydict')\n",
    "mydict2 = torch.load('mydict')\n",
    "mydict2"
   ]
  },
  {
   "cell_type": "markdown",
   "id": "a1f21d5a",
   "metadata": {
    "origin_pos": 26
   },
   "source": [
    "## [**加载和保存模型参数**]\n",
    "\n",
    "保存单个权重向量（或其他张量）是有用的，\n",
    "但如果我们想保存\n",
    "（并在以后加载）整个模型，这会变得非常繁琐。\n",
    "毕竟，我们可能有数百个\n",
    "分散在各处的参数组。\n",
    "因此，深度学习框架提供了内置功能\n",
    "来加载和保存整个网络。\n",
    "需要注意的一个重要细节是，这\n",
    "保存的是模型*参数*而不是整个模型。\n",
    "例如，如果我们有一个3层的MLP，\n",
    "我们需要单独指定架构。\n",
    "这样做的原因是模型本身可以包含任意代码，\n",
    "因此它们不能自然地被序列化。\n",
    "因此，为了恢复一个模型，我们需要\n",
    "通过代码生成架构\n",
    "然后从磁盘加载参数。\n",
    "(**让我们从熟悉的MLP开始。**)"
   ]
  },
  {
   "cell_type": "code",
   "execution_count": 6,
   "id": "6917c6ad",
   "metadata": {
    "execution": {
     "iopub.execute_input": "2023-08-18T20:14:04.290900Z",
     "iopub.status.busy": "2023-08-18T20:14:04.290420Z",
     "iopub.status.idle": "2023-08-18T20:14:04.301461Z",
     "shell.execute_reply": "2023-08-18T20:14:04.300490Z"
    },
    "origin_pos": 28,
    "tab": [
     "pytorch"
    ]
   },
   "outputs": [],
   "source": [
    "class MLP(nn.Module):\n",
    "    def __init__(self):\n",
    "        super().__init__()\n",
    "        self.hidden = nn.LazyLinear(256)\n",
    "        self.output = nn.LazyLinear(10)\n",
    "\n",
    "    def forward(self, x):\n",
    "        return self.output(F.relu(self.hidden(x)))\n",
    "\n",
    "net = MLP()\n",
    "X = torch.randn(size=(2, 20))\n",
    "Y = net(X)"
   ]
  },
  {
   "cell_type": "markdown",
   "id": "45d0c48e",
   "metadata": {
    "origin_pos": 31
   },
   "source": [
    "接下来，我们将模型的参数存储为名为\"mlp.params\"的文件。"
   ]
  },
  {
   "cell_type": "code",
   "execution_count": 7,
   "id": "88dfe184",
   "metadata": {
    "execution": {
     "iopub.execute_input": "2023-08-18T20:14:04.304908Z",
     "iopub.status.busy": "2023-08-18T20:14:04.304617Z",
     "iopub.status.idle": "2023-08-18T20:14:04.309701Z",
     "shell.execute_reply": "2023-08-18T20:14:04.308927Z"
    },
    "origin_pos": 33,
    "tab": [
     "pytorch"
    ]
   },
   "outputs": [],
   "source": [
    "torch.save(net.state_dict(), 'mlp.params')"
   ]
  },
  {
   "cell_type": "markdown",
   "id": "3ddcdcbd",
   "metadata": {
    "origin_pos": 36
   },
   "source": [
    "为了恢复模型，我们实例化原始MLP模型的一个克隆。\n",
    "我们没有随机初始化模型参数，\n",
    "而是[**直接读取文件中存储的参数**]。"
   ]
  },
  {
   "cell_type": "code",
   "execution_count": 8,
   "id": "0a8e9c03",
   "metadata": {
    "execution": {
     "iopub.execute_input": "2023-08-18T20:14:04.312721Z",
     "iopub.status.busy": "2023-08-18T20:14:04.312444Z",
     "iopub.status.idle": "2023-08-18T20:14:04.320044Z",
     "shell.execute_reply": "2023-08-18T20:14:04.319202Z"
    },
    "origin_pos": 38,
    "tab": [
     "pytorch"
    ]
   },
   "outputs": [
    {
     "data": {
      "text/plain": [
       "MLP(\n",
       "  (hidden): LazyLinear(in_features=0, out_features=256, bias=True)\n",
       "  (output): LazyLinear(in_features=0, out_features=10, bias=True)\n",
       ")"
      ]
     },
     "execution_count": 8,
     "metadata": {},
     "output_type": "execute_result"
    }
   ],
   "source": [
    "clone = MLP()\n",
    "clone.load_state_dict(torch.load('mlp.params'))\n",
    "clone.eval()"
   ]
  },
  {
   "cell_type": "markdown",
   "id": "4b209774",
   "metadata": {
    "origin_pos": 41
   },
   "source": [
    "由于两个实例具有相同的模型参数，对于相同的输入`X`，计算结果应该是相同的。让我们来验证这一点。"
   ]
  },
  {
   "cell_type": "code",
   "execution_count": 9,
   "id": "d65ae251",
   "metadata": {
    "execution": {
     "iopub.execute_input": "2023-08-18T20:14:04.323094Z",
     "iopub.status.busy": "2023-08-18T20:14:04.322816Z",
     "iopub.status.idle": "2023-08-18T20:14:04.330451Z",
     "shell.execute_reply": "2023-08-18T20:14:04.329304Z"
    },
    "origin_pos": 42,
    "tab": [
     "pytorch"
    ]
   },
   "outputs": [
    {
     "data": {
      "text/plain": [
       "tensor([[True, True, True, True, True, True, True, True, True, True],\n",
       "        [True, True, True, True, True, True, True, True, True, True]])"
      ]
     },
     "execution_count": 9,
     "metadata": {},
     "output_type": "execute_result"
    }
   ],
   "source": [
    "Y_clone = clone(X)\n",
    "Y_clone == Y"
   ]
  },
  {
   "cell_type": "markdown",
   "id": "109a1a9f",
   "metadata": {
    "origin_pos": 44
   },
   "source": [
    "## 摘要\n",
    "\n",
    "`save` 和 `load` 函数可用于执行张量对象的文件输入输出。\n",
    "我们可以通过参数字典保存和加载整个网络的参数集。\n",
    "保存架构必须通过代码完成，而不能通过参数完成。\n",
    "\n",
    "## 练习\n",
    "\n",
    "1. 即使不需要将训练好的模型部署到不同的设备上，存储模型参数有哪些实际好处？\n",
    "1. 假设我们只想重用网络的一部分，并将其集成到具有不同架构的新网络中。你将如何使用，比如说，先前网络中的前两层在新网络中？\n",
    "1. 你将如何保存网络架构和参数？你会对架构施加哪些限制？"
   ]
  },
  {
   "cell_type": "markdown",
   "id": "815c6198",
   "metadata": {
    "origin_pos": 46,
    "tab": [
     "pytorch"
    ]
   },
   "source": [
    "[讨论](https://discuss.d2l.ai/t/61)"
   ]
  }
 ],
 "metadata": {
  "language_info": {
   "name": "python"
  },
  "required_libs": []
 },
 "nbformat": 4,
 "nbformat_minor": 5
}