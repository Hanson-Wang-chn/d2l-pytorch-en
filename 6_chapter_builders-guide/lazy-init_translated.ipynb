{
 "cells": [
  {
   "cell_type": "markdown",
   "id": "fbe5ed8e",
   "metadata": {
    "origin_pos": 1
   },
   "source": [
    "# 延迟初始化\n",
    ":label:`sec_lazy_init`\n",
    "\n",
    "到目前为止，我们似乎在设置网络时有些随意。具体来说，我们做了以下一些看似不合理的事情，但它们却能正常工作：\n",
    "\n",
    "* 我们定义了网络架构，而没有指定输入维度。\n",
    "* 我们添加了层，而没有指定前一层的输出维度。\n",
    "* 甚至在提供足够的信息以确定模型应包含多少参数之前，我们就“初始化”了这些参数。\n",
    "\n",
    "你可能会惊讶于我们的代码居然能够运行。毕竟，深度学习框架无法知道网络的输入维度是多少。这里的诀窍是框架*推迟初始化*，等到第一次将数据通过模型传递时，动态推断每一层的大小。\n",
    "\n",
    "稍后，在处理卷积神经网络时，这种技术会变得更加方便，因为输入维度（例如图像的分辨率）会影响后续每一层的维度。因此，能够在编写代码时不需要知道维度的具体值就能设置参数，可以大大简化指定和随后修改模型的任务。接下来，我们将深入探讨初始化的机制。"
   ]
  },
  {
   "cell_type": "code",
   "execution_count": 1,
   "id": "6361eab8",
   "metadata": {
    "execution": {
     "iopub.execute_input": "2023-08-18T19:28:51.570624Z",
     "iopub.status.busy": "2023-08-18T19:28:51.570355Z",
     "iopub.status.idle": "2023-08-18T19:28:54.353918Z",
     "shell.execute_reply": "2023-08-18T19:28:54.352659Z"
    },
    "origin_pos": 3,
    "tab": [
     "pytorch"
    ]
   },
   "outputs": [],
   "source": [
    "import torch\n",
    "from torch import nn\n",
    "from d2l import torch as d2l"
   ]
  },
  {
   "cell_type": "markdown",
   "id": "4b9bf2d8",
   "metadata": {
    "origin_pos": 6
   },
   "source": [
    "首先，让我们实例化一个MLP。"
   ]
  },
  {
   "cell_type": "code",
   "execution_count": 2,
   "id": "9f40f460",
   "metadata": {
    "execution": {
     "iopub.execute_input": "2023-08-18T19:28:54.358332Z",
     "iopub.status.busy": "2023-08-18T19:28:54.357625Z",
     "iopub.status.idle": "2023-08-18T19:28:54.363046Z",
     "shell.execute_reply": "2023-08-18T19:28:54.362240Z"
    },
    "origin_pos": 8,
    "tab": [
     "pytorch"
    ]
   },
   "outputs": [],
   "source": [
    "net = nn.Sequential(nn.LazyLinear(256), nn.ReLU(), nn.LazyLinear(10))"
   ]
  },
  {
   "cell_type": "markdown",
   "id": "77114bd9",
   "metadata": {
    "origin_pos": 11
   },
   "source": [
    "此时，网络不可能知道输入层权重的维度，因为输入维度仍然未知。"
   ]
  },
  {
   "cell_type": "markdown",
   "id": "203aec57",
   "metadata": {
    "origin_pos": 12,
    "tab": [
     "pytorch"
    ]
   },
   "source": [
    "因此框架尚未初始化任何参数。\n",
    "我们通过尝试访问以下参数来确认。"
   ]
  },
  {
   "cell_type": "code",
   "execution_count": 3,
   "id": "4737af8b",
   "metadata": {
    "execution": {
     "iopub.execute_input": "2023-08-18T19:28:54.366909Z",
     "iopub.status.busy": "2023-08-18T19:28:54.366377Z",
     "iopub.status.idle": "2023-08-18T19:28:54.373758Z",
     "shell.execute_reply": "2023-08-18T19:28:54.372581Z"
    },
    "origin_pos": 15,
    "tab": [
     "pytorch"
    ]
   },
   "outputs": [
    {
     "data": {
      "text/plain": [
       "<UninitializedParameter>"
      ]
     },
     "execution_count": 3,
     "metadata": {},
     "output_type": "execute_result"
    }
   ],
   "source": [
    "net[0].weight"
   ]
  },
  {
   "cell_type": "markdown",
   "id": "168c0bea",
   "metadata": {
    "origin_pos": 21
   },
   "source": [
    "接下来让我们将数据通过网络传递，以便框架最终初始化参数。"
   ]
  },
  {
   "cell_type": "code",
   "execution_count": 4,
   "id": "e9b0be3f",
   "metadata": {
    "execution": {
     "iopub.execute_input": "2023-08-18T19:28:54.377386Z",
     "iopub.status.busy": "2023-08-18T19:28:54.376838Z",
     "iopub.status.idle": "2023-08-18T19:28:54.404155Z",
     "shell.execute_reply": "2023-08-18T19:28:54.403267Z"
    },
    "origin_pos": 23,
    "tab": [
     "pytorch"
    ]
   },
   "outputs": [
    {
     "data": {
      "text/plain": [
       "torch.Size([256, 20])"
      ]
     },
     "execution_count": 4,
     "metadata": {},
     "output_type": "execute_result"
    }
   ],
   "source": [
    "X = torch.rand(2, 20)\n",
    "net(X)\n",
    "\n",
    "net[0].weight.shape"
   ]
  },
  {
   "cell_type": "markdown",
   "id": "5d13a508",
   "metadata": {
    "origin_pos": 26
   },
   "source": [
    "一旦我们知道输入的维度，\n",
    "20，\n",
    "框架就可以通过插入20的值来确定第一层权重矩阵的形状。\n",
    "在识别了第一层的形状后，框架继续\n",
    "到第二层，\n",
    "依此类推，直到计算图中的所有形状都已知。\n",
    "请注意，在这种情况下，\n",
    "只有第一层需要延迟初始化，\n",
    "但框架是按顺序初始化的。\n",
    "一旦所有参数的形状都已知，\n",
    "框架最终可以初始化这些参数。"
   ]
  },
  {
   "cell_type": "markdown",
   "id": "65243de2",
   "metadata": {
    "origin_pos": 27,
    "tab": [
     "pytorch"
    ]
   },
   "source": [
    "以下方法\n",
    "通过网络\n",
    "传递虚拟输入\n",
    "进行一次预运行\n",
    "以推断所有参数的形状\n",
    "并随后初始化这些参数。\n",
    "当不希望使用默认的随机初始化时，后续会用到此方法。"
   ]
  },
  {
   "cell_type": "code",
   "execution_count": 5,
   "id": "7fb03640",
   "metadata": {
    "execution": {
     "iopub.execute_input": "2023-08-18T19:28:54.407725Z",
     "iopub.status.busy": "2023-08-18T19:28:54.407182Z",
     "iopub.status.idle": "2023-08-18T19:28:54.411940Z",
     "shell.execute_reply": "2023-08-18T19:28:54.411063Z"
    },
    "origin_pos": 29,
    "tab": [
     "pytorch"
    ]
   },
   "outputs": [],
   "source": [
    "@d2l.add_to_class(d2l.Module)  #@save\n",
    "def apply_init(self, inputs, init=None):\n",
    "    self.forward(*inputs)\n",
    "    if init is not None:\n",
    "        self.net.apply(init)"
   ]
  },
  {
   "cell_type": "markdown",
   "id": "1465b435",
   "metadata": {
    "origin_pos": 31
   },
   "source": [
    "## 摘要\n",
    "\n",
    "惰性初始化很方便，可以让框架自动推断参数形状，便于修改架构，并消除一个常见的错误来源。\n",
    "我们可以通过模型传递数据，使框架最终初始化参数。\n",
    "\n",
    "\n",
    "## 练习\n",
    "\n",
    "1. 如果你只指定了第一层的输入维度而没有指定后续层的输入维度会发生什么？你会得到立即初始化吗？\n",
    "1. 如果你指定了不匹配的维度会发生什么？\n",
    "1. 如果你的输入维度是可变的，你需要做什么？提示：看看参数绑定。"
   ]
  },
  {
   "cell_type": "markdown",
   "id": "a17bbb9b",
   "metadata": {
    "origin_pos": 33,
    "tab": [
     "pytorch"
    ]
   },
   "source": [
    "[讨论](https://discuss.d2l.ai/t/8092)"
   ]
  }
 ],
 "metadata": {
  "language_info": {
   "name": "python"
  },
  "required_libs": []
 },
 "nbformat": 4,
 "nbformat_minor": 5
}