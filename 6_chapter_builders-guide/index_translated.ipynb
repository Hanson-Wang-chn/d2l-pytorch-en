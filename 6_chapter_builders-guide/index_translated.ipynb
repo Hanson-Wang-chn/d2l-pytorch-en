{
 "cells": [
  {
   "cell_type": "markdown",
   "id": "5c254ef4",
   "metadata": {
    "origin_pos": 0
   },
   "source": [
    "# 构建者指南\n",
    ":label:`chap_computation`\n",
    "\n",
    "除了庞大的数据集和强大的硬件之外，优秀的软件工具在深度学习的快速进展中也发挥了不可或缺的作用。从2007年发布的开创性Theano库开始，灵活的开源工具使研究人员能够快速原型化模型，避免在重复使用标准组件时进行重复工作，同时仍保持进行低级修改的能力。随着时间的推移，深度学习库已经发展到提供越来越粗粒度的抽象。正如半导体设计师从指定晶体管转向逻辑电路再到编写代码一样，神经网络研究人员也从思考单个人工神经元的行为转向以整个层来构思网络，并且现在常常以更粗粒度的*块*来设计架构。\n",
    "\n",
    "到目前为止，我们已经介绍了一些基本的机器学习概念，逐步提升到完全功能的深度学习模型。在上一章中，我们从零开始实现了MLP的每个组件，甚至展示了如何利用高级API轻松推出相同的模型。为了让你快速达到这个水平，我们*调用了*这些库，但跳过了关于*它们如何工作*的更高级细节。在本章中，我们将揭开面纱，深入探讨深度学习计算的关键组件，即模型构建、参数访问和初始化、设计自定义层和块、读写磁盘上的模型以及利用GPU实现显著的速度提升。这些见解将使你从*最终用户*转变为*高级用户*，为你提供所需工具，以便充分利用成熟的深度学习库，同时保留实现更复杂模型（包括你自己发明的模型）的灵活性！虽然本章不介绍任何新的模型或数据集，但后续的高级建模章节将大量依赖这些技术。\n",
    "\n",
    ":begin_tab:toc\n",
    " - [model-construction](model-construction.ipynb)\n",
    " - [parameters](parameters.ipynb)\n",
    " - [init-param](init-param.ipynb)\n",
    " - [lazy-init](lazy-init.ipynb)\n",
    " - [custom-layer](custom-layer.ipynb)\n",
    " - [read-write](read-write.ipynb)\n",
    " - [use-gpu](use-gpu.ipynb)\n",
    ":end_tab:"
   ]
  }
 ],
 "metadata": {
  "language_info": {
   "name": "python"
  },
  "required_libs": []
 },
 "nbformat": 4,
 "nbformat_minor": 5
}