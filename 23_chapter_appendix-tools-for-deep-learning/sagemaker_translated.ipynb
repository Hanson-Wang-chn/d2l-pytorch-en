{
 "cells": [
  {
   "cell_type": "markdown",
   "id": "f2c0e562",
   "metadata": {
    "origin_pos": 0
   },
   "source": [
    "# 使用 Amazon SageMaker\n",
    ":label:`sec_sagemaker`\n",
    "\n",
    "深度学习应用\n",
    "可能需要大量的计算资源，\n",
    "这很容易超出\n",
    "你的本地机器所能提供的范围。\n",
    "云计算服务\n",
    "允许你\n",
    "使用更强大的计算机\n",
    "更轻松地运行本书中的GPU密集型代码。\n",
    "本节将介绍\n",
    "如何使用 Amazon Sageaker\n",
    "来运行本书的代码。\n",
    "\n",
    "## 注册\n",
    "\n",
    "首先，我们需要在 https://aws.amazon.com/ 上注册一个账户。\n",
    "为了提高安全性，\n",
    "建议使用双因素认证。\n",
    "设置详细的账单和支出提醒也是一个好主意，\n",
    "以避免任何意外，\n",
    "例如，\n",
    "忘记停止运行实例时。\n",
    "登录到您的 AWS 账户后，\n",
    "进入您的[控制台](http://console.aws.amazon.com/)并搜索“Amazon SageMaker”（见 :numref:`fig_sagemaker`），\n",
    "然后点击它以打开 SageMaker 面板。\n",
    "\n",
    "![Search for and open the SageMaker panel.](../img/sagemaker.png)\n",
    ":width:`300px`\n",
    ":label:`fig_sagemaker`\n",
    "\n",
    "## 创建 SageMaker 实例\n",
    "\n",
    "接下来，让我们按照 :numref:`fig_sagemaker-create` 所示创建一个笔记本实例。\n",
    "\n",
    "![Create a SageMaker instance.](../img/sagemaker-create.png)\n",
    ":width:`400px`\n",
    ":label:`fig_sagemaker-create`\n",
    "\n",
    "SageMaker 提供了多种具有不同计算能力和价格的[实例类型](https://aws.amazon.com/sagemaker/pricing/instance-types/)。\n",
    "在创建笔记本实例时，\n",
    "我们可以指定其名称和类型。\n",
    "在 :numref:`fig_sagemaker-create-2` 中，我们选择了 `ml.p3.2xlarge`：配备了一个 Tesla V100 GPU 和 8 核 CPU，这个实例对于本书中的大部分内容来说已经足够强大。\n",
    "\n",
    "![Choose the instance type.](../img/sagemaker-create-2.png)\n",
    ":width:`400px`\n",
    ":label:`fig_sagemaker-create-2`"
   ]
  },
  {
   "cell_type": "markdown",
   "id": "92dfeb02",
   "metadata": {
    "origin_pos": 2,
    "tab": [
     "pytorch"
    ]
   },
   "source": [
    "整本书以ipynb格式提供，可以在https://github.com/d2l-ai/d2l-pytorch-sagemaker上运行SageMaker。我们可以在创建实例时指定此GitHub仓库URL（:numref:`fig_sagemaker-create-3`），以便SageMaker克隆它。"
   ]
  },
  {
   "cell_type": "markdown",
   "id": "35a9483d",
   "metadata": {
    "origin_pos": 4
   },
   "source": [
    "![指定GitHub仓库。](../img/sagemaker-create-3.png)\n",
    ":width:`400px`\n",
    ":label:`fig_sagemaker-create-3`\n",
    "\n",
    "## 启动和停止实例\n",
    "\n",
    "创建实例可能需要几分钟时间。当它准备好后，点击旁边的“Open Jupyter”链接（:numref:`fig_sagemaker-open`），这样你就可以在这个实例上编辑和运行本书的所有Jupyter笔记本（类似于:numref:`sec_jupyter`中的步骤）。\n",
    "\n",
    "![在创建的SageMaker实例上打开Jupyter。](../img/sagemaker-open.png)\n",
    ":width:`400px`\n",
    ":label:`fig_sagemaker-open`\n",
    "\n",
    "完成工作后，不要忘记停止实例以避免继续收费（:numref:`fig_sagemaker-stop`）。\n",
    "\n",
    "![停止一个SageMaker实例。](../img/sagemaker-stop.png)\n",
    ":width:`300px`\n",
    ":label:`fig_sagemaker-stop`\n",
    "\n",
    "## 更新笔记本"
   ]
  },
  {
   "cell_type": "markdown",
   "id": "f85f5541",
   "metadata": {
    "origin_pos": 6,
    "tab": [
     "pytorch"
    ]
   },
   "source": [
    "这本开源书籍的笔记本将定期在GitHub上的[d2l-ai/d2l-pytorch-sagemaker](https://github.com/d2l-ai/d2l-pytorch-sagemaker)仓库中更新。要更新到最新版本，您可以在SageMaker实例上打开一个终端 (:numref:`fig_sagemaker-terminal`)。"
   ]
  },
  {
   "cell_type": "markdown",
   "id": "b510e4f3",
   "metadata": {
    "origin_pos": 8
   },
   "source": [
    "![在SageMaker实例上打开终端。](../img/sagemaker-terminal.png)\n",
    ":width:`300px`\n",
    ":label:`fig_sagemaker-terminal`\n",
    "\n",
    "您可能希望在从远程仓库拉取更新之前提交本地更改。\n",
    "否则，只需使用以下命令在终端中丢弃所有本地更改："
   ]
  },
  {
   "cell_type": "markdown",
   "id": "480c9c70",
   "metadata": {
    "origin_pos": 10,
    "tab": [
     "pytorch"
    ]
   },
   "source": [
    "```bash\n",
    "cd SageMaker/d2l-pytorch-sagemaker/\n",
    "git reset --hard\n",
    "git pull\n",
    "```"
   ]
  },
  {
   "cell_type": "markdown",
   "id": "a6b57240",
   "metadata": {
    "origin_pos": 12
   },
   "source": [
    "## 摘要\n",
    "\n",
    "* 我们可以使用Amazon SageMaker创建一个笔记本实例来运行本书的GPU密集型代码。\n",
    "* 我们可以通过Amazon SageMaker实例上的终端更新笔记本。\n",
    "\n",
    "\n",
    "## 练习\n",
    "\n",
    "\n",
    "1. 使用Amazon SageMaker编辑并运行任何需要GPU的部分。\n",
    "1. 打开终端访问托管本书所有笔记本的本地目录。\n",
    "\n",
    "\n",
    "[Discussions](https://discuss.d2l.ai/t/422)"
   ]
  }
 ],
 "metadata": {
  "language_info": {
   "name": "python"
  },
  "required_libs": []
 },
 "nbformat": 4,
 "nbformat_minor": 5
}