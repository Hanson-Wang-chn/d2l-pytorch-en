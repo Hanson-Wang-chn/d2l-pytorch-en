{
 "cells": [
  {
   "cell_type": "markdown",
   "id": "35c5f97a",
   "metadata": {
    "origin_pos": 0
   },
   "source": [
    "# 使用 Google Colab\n",
    ":label:`sec_colab`\n",
    "\n",
    "我们在 :numref:`sec_sagemaker` 和 :numref:`sec_aws` 中介绍了如何在 AWS 上运行本书。另一个选择是如果你有 Google 账户，可以在 [Google Colab](https://colab.research.google.com/) 上运行这本书。\n",
    "\n",
    "要在一个章节中运行代码，只需点击如 :numref:`fig_colab` 所示的 `Colab` 按钮。\n",
    "\n",
    "![在 Colab 上运行一个章节的代码](../img/colab.png)\n",
    ":width:`300px`\n",
    ":label:`fig_colab`\n",
    "\n",
    "\n",
    "如果你是第一次运行代码单元，你会收到如 :numref:`fig_colab2` 所示的警告信息。只需点击“RUN ANYWAY”来忽略它。\n",
    "\n",
    "![通过点击“RUN ANYWAY”来忽略警告信息。](../img/colab-2.png)\n",
    ":width:`300px`\n",
    ":label:`fig_colab2`\n",
    "\n",
    "接下来，Colab 会连接到一个实例来运行本节的代码。特别是，如果需要 GPU，Colab 会自动请求连接到一个带有 GPU 的实例。\n",
    "\n",
    "## 总结\n",
    "\n",
    "* 你可以使用 Google Colab 来运行本书每一节的代码。\n",
    "* 如果本书中的任何一节需要 GPU，Colab 会被请求连接到一个带有 GPU 的实例。\n",
    "\n",
    "## 练习\n",
    "\n",
    "1. 使用 Google Colab 打开本书的任意一节。\n",
    "1. 使用 Google Colab 编辑并运行需要 GPU 的任意一节。\n",
    "\n",
    "[讨论](https://discuss.d2l.ai/t/424)"
   ]
  }
 ],
 "metadata": {
  "language_info": {
   "name": "python"
  },
  "required_libs": []
 },
 "nbformat": 4,
 "nbformat_minor": 5
}