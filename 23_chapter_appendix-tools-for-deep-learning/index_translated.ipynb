{
 "cells": [
  {
   "cell_type": "markdown",
   "id": "488fe751",
   "metadata": {
    "origin_pos": 0
   },
   "source": [
    "# 附录：深度学习工具\n",
    ":label:`chap_appendix_tools`\n",
    "\n",
    "\n",
    "为了最大限度地利用《深入深度学习》这本书，\n",
    "本附录将向您介绍不同的工具，\n",
    "例如\n",
    "用于运行和贡献这本\n",
    "交互式开源书籍的工具。\n",
    "\n",
    ":begin_tab:toc\n",
    " - [jupyter](jupyter.ipynb)\n",
    " - [sagemaker](sagemaker.ipynb)\n",
    " - [aws](aws.ipynb)\n",
    " - [colab](colab.ipynb)\n",
    " - [selecting-servers-gpus](selecting-servers-gpus.ipynb)\n",
    " - [contributing](contributing.ipynb)\n",
    " - [utils](utils.ipynb)\n",
    " - [d2l](d2l.ipynb)\n",
    ":end_tab:"
   ]
  }
 ],
 "metadata": {
  "language_info": {
   "name": "python"
  },
  "required_libs": []
 },
 "nbformat": 4,
 "nbformat_minor": 5
}