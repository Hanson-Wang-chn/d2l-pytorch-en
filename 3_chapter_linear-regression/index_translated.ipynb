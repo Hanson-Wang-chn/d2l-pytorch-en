{
 "cells": [
  {
   "cell_type": "markdown",
   "id": "0a968153",
   "metadata": {
    "origin_pos": 0
   },
   "source": [
    "# 线性神经网络用于回归\n",
    ":label:`chap_regression`\n",
    "\n",
    "在我们担心使神经网络变得更深层之前，实现一些浅层网络将是有帮助的，这些网络的输入直接连接到输出。这有几个重要原因。首先，我们可以专注于神经网络训练的基础，而不会被复杂的架构分散注意力，包括输出层的参数化、数据处理、指定损失函数和训练模型。其次，这类浅层网络恰好构成了线性模型的集合，它包含了统计预测中的许多经典方法，包括线性回归和softmax回归。理解这些经典工具是至关重要的，因为它们在许多情境中被广泛使用，并且在证明使用更复杂架构的合理性时，我们通常需要将它们作为基准。本章将重点关注线性回归，下一章将通过开发用于分类的线性神经网络来扩展我们的建模工具箱。\n",
    "\n",
    ":begin_tab:toc\n",
    " - [linear-regression](linear-regression.ipynb)\n",
    " - [oo-design](oo-design.ipynb)\n",
    " - [synthetic-regression-data](synthetic-regression-data.ipynb)\n",
    " - [linear-regression-scratch](linear-regression-scratch.ipynb)\n",
    " - [linear-regression-concise](linear-regression-concise.ipynb)\n",
    " - [generalization](generalization.ipynb)\n",
    " - [weight-decay](weight-decay.ipynb)\n",
    ":end_tab:"
   ]
  }
 ],
 "metadata": {
  "language_info": {
   "name": "python"
  },
  "required_libs": []
 },
 "nbformat": 4,
 "nbformat_minor": 5
}